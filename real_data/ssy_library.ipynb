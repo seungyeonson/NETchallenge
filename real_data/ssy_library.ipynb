{
 "cells": [
  {
   "cell_type": "code",
   "execution_count": 2,
   "metadata": {},
   "outputs": [
    {
     "name": "stderr",
     "output_type": "stream",
     "text": [
      "C:\\Users\\user\\Anaconda3\\envs\\tensorflow\\lib\\site-packages\\tensorflow\\python\\framework\\dtypes.py:516: FutureWarning: Passing (type, 1) or '1type' as a synonym of type is deprecated; in a future version of numpy, it will be understood as (type, (1,)) / '(1,)type'.\n",
      "  _np_qint8 = np.dtype([(\"qint8\", np.int8, 1)])\n",
      "C:\\Users\\user\\Anaconda3\\envs\\tensorflow\\lib\\site-packages\\tensorflow\\python\\framework\\dtypes.py:517: FutureWarning: Passing (type, 1) or '1type' as a synonym of type is deprecated; in a future version of numpy, it will be understood as (type, (1,)) / '(1,)type'.\n",
      "  _np_quint8 = np.dtype([(\"quint8\", np.uint8, 1)])\n",
      "C:\\Users\\user\\Anaconda3\\envs\\tensorflow\\lib\\site-packages\\tensorflow\\python\\framework\\dtypes.py:518: FutureWarning: Passing (type, 1) or '1type' as a synonym of type is deprecated; in a future version of numpy, it will be understood as (type, (1,)) / '(1,)type'.\n",
      "  _np_qint16 = np.dtype([(\"qint16\", np.int16, 1)])\n",
      "C:\\Users\\user\\Anaconda3\\envs\\tensorflow\\lib\\site-packages\\tensorflow\\python\\framework\\dtypes.py:519: FutureWarning: Passing (type, 1) or '1type' as a synonym of type is deprecated; in a future version of numpy, it will be understood as (type, (1,)) / '(1,)type'.\n",
      "  _np_quint16 = np.dtype([(\"quint16\", np.uint16, 1)])\n",
      "C:\\Users\\user\\Anaconda3\\envs\\tensorflow\\lib\\site-packages\\tensorflow\\python\\framework\\dtypes.py:520: FutureWarning: Passing (type, 1) or '1type' as a synonym of type is deprecated; in a future version of numpy, it will be understood as (type, (1,)) / '(1,)type'.\n",
      "  _np_qint32 = np.dtype([(\"qint32\", np.int32, 1)])\n",
      "C:\\Users\\user\\Anaconda3\\envs\\tensorflow\\lib\\site-packages\\tensorflow\\python\\framework\\dtypes.py:525: FutureWarning: Passing (type, 1) or '1type' as a synonym of type is deprecated; in a future version of numpy, it will be understood as (type, (1,)) / '(1,)type'.\n",
      "  np_resource = np.dtype([(\"resource\", np.ubyte, 1)])\n",
      "C:\\Users\\user\\Anaconda3\\envs\\tensorflow\\lib\\site-packages\\tensorboard\\compat\\tensorflow_stub\\dtypes.py:541: FutureWarning: Passing (type, 1) or '1type' as a synonym of type is deprecated; in a future version of numpy, it will be understood as (type, (1,)) / '(1,)type'.\n",
      "  _np_qint8 = np.dtype([(\"qint8\", np.int8, 1)])\n",
      "C:\\Users\\user\\Anaconda3\\envs\\tensorflow\\lib\\site-packages\\tensorboard\\compat\\tensorflow_stub\\dtypes.py:542: FutureWarning: Passing (type, 1) or '1type' as a synonym of type is deprecated; in a future version of numpy, it will be understood as (type, (1,)) / '(1,)type'.\n",
      "  _np_quint8 = np.dtype([(\"quint8\", np.uint8, 1)])\n",
      "C:\\Users\\user\\Anaconda3\\envs\\tensorflow\\lib\\site-packages\\tensorboard\\compat\\tensorflow_stub\\dtypes.py:543: FutureWarning: Passing (type, 1) or '1type' as a synonym of type is deprecated; in a future version of numpy, it will be understood as (type, (1,)) / '(1,)type'.\n",
      "  _np_qint16 = np.dtype([(\"qint16\", np.int16, 1)])\n",
      "C:\\Users\\user\\Anaconda3\\envs\\tensorflow\\lib\\site-packages\\tensorboard\\compat\\tensorflow_stub\\dtypes.py:544: FutureWarning: Passing (type, 1) or '1type' as a synonym of type is deprecated; in a future version of numpy, it will be understood as (type, (1,)) / '(1,)type'.\n",
      "  _np_quint16 = np.dtype([(\"quint16\", np.uint16, 1)])\n",
      "C:\\Users\\user\\Anaconda3\\envs\\tensorflow\\lib\\site-packages\\tensorboard\\compat\\tensorflow_stub\\dtypes.py:545: FutureWarning: Passing (type, 1) or '1type' as a synonym of type is deprecated; in a future version of numpy, it will be understood as (type, (1,)) / '(1,)type'.\n",
      "  _np_qint32 = np.dtype([(\"qint32\", np.int32, 1)])\n",
      "C:\\Users\\user\\Anaconda3\\envs\\tensorflow\\lib\\site-packages\\tensorboard\\compat\\tensorflow_stub\\dtypes.py:550: FutureWarning: Passing (type, 1) or '1type' as a synonym of type is deprecated; in a future version of numpy, it will be understood as (type, (1,)) / '(1,)type'.\n",
      "  np_resource = np.dtype([(\"resource\", np.ubyte, 1)])\n"
     ]
    }
   ],
   "source": [
    "import tensorflow as tf\n",
    "#Data Manipulation\n",
    "import numpy as np\n",
    "import pandas as pd\n",
    "\n",
    "#Visualization\n",
    "import matplotlib.pyplot as plt\n",
    "import seaborn as sns\n",
    "sns.set()\n",
    "\n",
    "#Importing Dependencies\n",
    "%matplotlib inline\n",
    "\n",
    "import math"
   ]
  },
  {
   "cell_type": "code",
   "execution_count": 3,
   "metadata": {},
   "outputs": [],
   "source": [
    "#파일 불러오기\n",
    "ap_data = pd.read_csv('LOG_CONCAT_ssy.csv', engine='python', index_col=0)"
   ]
  },
  {
   "cell_type": "code",
   "execution_count": 4,
   "metadata": {},
   "outputs": [
    {
     "data": {
      "text/html": [
       "<div>\n",
       "<style scoped>\n",
       "    .dataframe tbody tr th:only-of-type {\n",
       "        vertical-align: middle;\n",
       "    }\n",
       "\n",
       "    .dataframe tbody tr th {\n",
       "        vertical-align: top;\n",
       "    }\n",
       "\n",
       "    .dataframe thead th {\n",
       "        text-align: right;\n",
       "    }\n",
       "</style>\n",
       "<table border=\"1\" class=\"dataframe\">\n",
       "  <thead>\n",
       "    <tr style=\"text-align: right;\">\n",
       "      <th></th>\n",
       "      <th>jnuradacctid</th>\n",
       "      <th>acctsessionid</th>\n",
       "      <th>acctuniqueid</th>\n",
       "      <th>username</th>\n",
       "      <th>groupname</th>\n",
       "      <th>realm</th>\n",
       "      <th>nasipaddress</th>\n",
       "      <th>nasportid</th>\n",
       "      <th>nasporttype</th>\n",
       "      <th>acctstarttime</th>\n",
       "      <th>...</th>\n",
       "      <th>callingstationid</th>\n",
       "      <th>acctterminatecause</th>\n",
       "      <th>servicetype</th>\n",
       "      <th>framedprotocol</th>\n",
       "      <th>framedipaddress</th>\n",
       "      <th>acctstartdelay</th>\n",
       "      <th>acctstopdelay</th>\n",
       "      <th>xascendsessionsvrkey</th>\n",
       "      <th>server</th>\n",
       "      <th>sequence</th>\n",
       "    </tr>\n",
       "  </thead>\n",
       "  <tbody>\n",
       "    <tr>\n",
       "      <th>3.0</th>\n",
       "      <td>80667513.0</td>\n",
       "      <td>00002801-00000470</td>\n",
       "      <td>977346d2dd8a9ba2d2eb0a07c9c81541</td>\n",
       "      <td>192777</td>\n",
       "      <td>NaN</td>\n",
       "      <td>NaN</td>\n",
       "      <td>168.131.13.224</td>\n",
       "      <td>0.0</td>\n",
       "      <td>Wireless-802.11</td>\n",
       "      <td>2019-09-20 0:25</td>\n",
       "      <td>...</td>\n",
       "      <td>08-AE-D6-30-A0-33</td>\n",
       "      <td>NaN</td>\n",
       "      <td>NaN</td>\n",
       "      <td>NaN</td>\n",
       "      <td>10.10.12.83</td>\n",
       "      <td>0.0</td>\n",
       "      <td>0.0</td>\n",
       "      <td>NaN</td>\n",
       "      <td>168.131.33.63</td>\n",
       "      <td>0</td>\n",
       "    </tr>\n",
       "    <tr>\n",
       "      <th>11.0</th>\n",
       "      <td>80667663.0</td>\n",
       "      <td>00003001-0000023D</td>\n",
       "      <td>45c4ba1bc250e54cfe82030e9c09ad1a</td>\n",
       "      <td>171594</td>\n",
       "      <td>NaN</td>\n",
       "      <td>NaN</td>\n",
       "      <td>168.131.13.224</td>\n",
       "      <td>0.0</td>\n",
       "      <td>Wireless-802.11</td>\n",
       "      <td>2019-09-20 1:24</td>\n",
       "      <td>...</td>\n",
       "      <td>A8-2B-B9-19-C8-5C</td>\n",
       "      <td>User-Request</td>\n",
       "      <td>NaN</td>\n",
       "      <td>NaN</td>\n",
       "      <td>10.10.1.144</td>\n",
       "      <td>0.0</td>\n",
       "      <td>0.0</td>\n",
       "      <td>NaN</td>\n",
       "      <td>168.131.33.63</td>\n",
       "      <td>1</td>\n",
       "    </tr>\n",
       "    <tr>\n",
       "      <th>12.0</th>\n",
       "      <td>80668351.0</td>\n",
       "      <td>00004001-00000236</td>\n",
       "      <td>d115f6d0b261fc722c5ec9a04823f9f3</td>\n",
       "      <td>193562</td>\n",
       "      <td>NaN</td>\n",
       "      <td>NaN</td>\n",
       "      <td>168.131.13.224</td>\n",
       "      <td>0.0</td>\n",
       "      <td>Wireless-802.11</td>\n",
       "      <td>2019-09-20 0:22</td>\n",
       "      <td>...</td>\n",
       "      <td>C4-93-D9-CE-A7-5D</td>\n",
       "      <td>User-Request</td>\n",
       "      <td>NaN</td>\n",
       "      <td>NaN</td>\n",
       "      <td>168.131.214.29</td>\n",
       "      <td>0.0</td>\n",
       "      <td>0.0</td>\n",
       "      <td>NaN</td>\n",
       "      <td>168.131.33.63</td>\n",
       "      <td>2</td>\n",
       "    </tr>\n",
       "    <tr>\n",
       "      <th>36.0</th>\n",
       "      <td>80675437.0</td>\n",
       "      <td>00021401-000011DC</td>\n",
       "      <td>7bb6ebbfe7ef1f768ace5bbf47c061f1</td>\n",
       "      <td>193562</td>\n",
       "      <td>NaN</td>\n",
       "      <td>NaN</td>\n",
       "      <td>168.131.13.222</td>\n",
       "      <td>0.0</td>\n",
       "      <td>Wireless-802.11</td>\n",
       "      <td>2019-09-20 0:26</td>\n",
       "      <td>...</td>\n",
       "      <td>C4-93-D9-CE-A7-5D</td>\n",
       "      <td>User-Request</td>\n",
       "      <td>NaN</td>\n",
       "      <td>NaN</td>\n",
       "      <td>10.10.40.252</td>\n",
       "      <td>0.0</td>\n",
       "      <td>0.0</td>\n",
       "      <td>NaN</td>\n",
       "      <td>168.131.33.63</td>\n",
       "      <td>3</td>\n",
       "    </tr>\n",
       "    <tr>\n",
       "      <th>37.0</th>\n",
       "      <td>80675438.0</td>\n",
       "      <td>00021401-000011DD</td>\n",
       "      <td>6b69327f47c917102170c73c08032506</td>\n",
       "      <td>142825</td>\n",
       "      <td>NaN</td>\n",
       "      <td>NaN</td>\n",
       "      <td>168.131.13.222</td>\n",
       "      <td>0.0</td>\n",
       "      <td>Wireless-802.11</td>\n",
       "      <td>2019-09-20 0:55</td>\n",
       "      <td>...</td>\n",
       "      <td>64-7B-CE-8D-64-7A</td>\n",
       "      <td>NaN</td>\n",
       "      <td>NaN</td>\n",
       "      <td>NaN</td>\n",
       "      <td>10.10.60.142</td>\n",
       "      <td>0.0</td>\n",
       "      <td>0.0</td>\n",
       "      <td>NaN</td>\n",
       "      <td>168.131.33.63</td>\n",
       "      <td>4</td>\n",
       "    </tr>\n",
       "  </tbody>\n",
       "</table>\n",
       "<p>5 rows × 31 columns</p>\n",
       "</div>"
      ],
      "text/plain": [
       "      jnuradacctid      acctsessionid                      acctuniqueid  \\\n",
       "3.0     80667513.0  00002801-00000470  977346d2dd8a9ba2d2eb0a07c9c81541   \n",
       "11.0    80667663.0  00003001-0000023D  45c4ba1bc250e54cfe82030e9c09ad1a   \n",
       "12.0    80668351.0  00004001-00000236  d115f6d0b261fc722c5ec9a04823f9f3   \n",
       "36.0    80675437.0  00021401-000011DC  7bb6ebbfe7ef1f768ace5bbf47c061f1   \n",
       "37.0    80675438.0  00021401-000011DD  6b69327f47c917102170c73c08032506   \n",
       "\n",
       "     username  groupname realm    nasipaddress  nasportid      nasporttype  \\\n",
       "3.0    192777        NaN   NaN  168.131.13.224        0.0  Wireless-802.11   \n",
       "11.0   171594        NaN   NaN  168.131.13.224        0.0  Wireless-802.11   \n",
       "12.0   193562        NaN   NaN  168.131.13.224        0.0  Wireless-802.11   \n",
       "36.0   193562        NaN   NaN  168.131.13.222        0.0  Wireless-802.11   \n",
       "37.0   142825        NaN   NaN  168.131.13.222        0.0  Wireless-802.11   \n",
       "\n",
       "        acctstarttime  ...   callingstationid acctterminatecause  servicetype  \\\n",
       "3.0   2019-09-20 0:25  ...  08-AE-D6-30-A0-33                NaN          NaN   \n",
       "11.0  2019-09-20 1:24  ...  A8-2B-B9-19-C8-5C       User-Request          NaN   \n",
       "12.0  2019-09-20 0:22  ...  C4-93-D9-CE-A7-5D       User-Request          NaN   \n",
       "36.0  2019-09-20 0:26  ...  C4-93-D9-CE-A7-5D       User-Request          NaN   \n",
       "37.0  2019-09-20 0:55  ...  64-7B-CE-8D-64-7A                NaN          NaN   \n",
       "\n",
       "     framedprotocol framedipaddress acctstartdelay  acctstopdelay  \\\n",
       "3.0             NaN     10.10.12.83            0.0            0.0   \n",
       "11.0            NaN     10.10.1.144            0.0            0.0   \n",
       "12.0            NaN  168.131.214.29            0.0            0.0   \n",
       "36.0            NaN    10.10.40.252            0.0            0.0   \n",
       "37.0            NaN    10.10.60.142            0.0            0.0   \n",
       "\n",
       "      xascendsessionsvrkey         server sequence  \n",
       "3.0                    NaN  168.131.33.63        0  \n",
       "11.0                   NaN  168.131.33.63        1  \n",
       "12.0                   NaN  168.131.33.63        2  \n",
       "36.0                   NaN  168.131.33.63        3  \n",
       "37.0                   NaN  168.131.33.63        4  \n",
       "\n",
       "[5 rows x 31 columns]"
      ]
     },
     "execution_count": 4,
     "metadata": {},
     "output_type": "execute_result"
    }
   ],
   "source": [
    "ap_data.head(5)"
   ]
  },
  {
   "cell_type": "code",
   "execution_count": 5,
   "metadata": {},
   "outputs": [
    {
     "name": "stdout",
     "output_type": "stream",
     "text": [
      "<class 'pandas.core.frame.DataFrame'>\n",
      "Float64Index: 125115 entries, 3.0 to 72799.0\n",
      "Data columns (total 31 columns):\n",
      "jnuradacctid            125024 non-null float64\n",
      "acctsessionid           125020 non-null object\n",
      "acctuniqueid            125024 non-null object\n",
      "username                125024 non-null object\n",
      "groupname               0 non-null float64\n",
      "realm                   3664 non-null object\n",
      "nasipaddress            125024 non-null object\n",
      "nasportid               125024 non-null float64\n",
      "nasporttype             125024 non-null object\n",
      "acctstarttime           125024 non-null object\n",
      "acctstoptime            125024 non-null object\n",
      "real_time               125024 non-null object\n",
      "acctsessiontime         125115 non-null int64\n",
      "acctauthentic           118367 non-null object\n",
      "connectinfo_start       51343 non-null object\n",
      "connectinfo_stop        42621 non-null object\n",
      "acctinputoctets         125024 non-null float64\n",
      "acctoutputoctets        125024 non-null float64\n",
      "calledstationid         125024 non-null object\n",
      "ipaddress               125024 non-null object\n",
      "place                   124068 non-null object\n",
      "callingstationid        125024 non-null object\n",
      "acctterminatecause      107381 non-null object\n",
      "servicetype             0 non-null float64\n",
      "framedprotocol          0 non-null float64\n",
      "framedipaddress         125024 non-null object\n",
      "acctstartdelay          125024 non-null float64\n",
      "acctstopdelay           125024 non-null float64\n",
      "xascendsessionsvrkey    0 non-null float64\n",
      "server                  125024 non-null object\n",
      "sequence                125115 non-null int64\n",
      "dtypes: float64(10), int64(2), object(19)\n",
      "memory usage: 30.5+ MB\n"
     ]
    }
   ],
   "source": [
    "ap_data.info()"
   ]
  },
  {
   "cell_type": "code",
   "execution_count": 6,
   "metadata": {},
   "outputs": [],
   "source": [
    "ap_data = ap_data.reset_index(drop=True)"
   ]
  },
  {
   "cell_type": "code",
   "execution_count": 7,
   "metadata": {},
   "outputs": [
    {
     "data": {
      "text/html": [
       "<div>\n",
       "<style scoped>\n",
       "    .dataframe tbody tr th:only-of-type {\n",
       "        vertical-align: middle;\n",
       "    }\n",
       "\n",
       "    .dataframe tbody tr th {\n",
       "        vertical-align: top;\n",
       "    }\n",
       "\n",
       "    .dataframe thead th {\n",
       "        text-align: right;\n",
       "    }\n",
       "</style>\n",
       "<table border=\"1\" class=\"dataframe\">\n",
       "  <thead>\n",
       "    <tr style=\"text-align: right;\">\n",
       "      <th></th>\n",
       "      <th>jnuradacctid</th>\n",
       "      <th>acctsessionid</th>\n",
       "      <th>acctuniqueid</th>\n",
       "      <th>username</th>\n",
       "      <th>groupname</th>\n",
       "      <th>realm</th>\n",
       "      <th>nasipaddress</th>\n",
       "      <th>nasportid</th>\n",
       "      <th>nasporttype</th>\n",
       "      <th>acctstarttime</th>\n",
       "      <th>...</th>\n",
       "      <th>callingstationid</th>\n",
       "      <th>acctterminatecause</th>\n",
       "      <th>servicetype</th>\n",
       "      <th>framedprotocol</th>\n",
       "      <th>framedipaddress</th>\n",
       "      <th>acctstartdelay</th>\n",
       "      <th>acctstopdelay</th>\n",
       "      <th>xascendsessionsvrkey</th>\n",
       "      <th>server</th>\n",
       "      <th>sequence</th>\n",
       "    </tr>\n",
       "  </thead>\n",
       "  <tbody>\n",
       "    <tr>\n",
       "      <th>0</th>\n",
       "      <td>80667513.0</td>\n",
       "      <td>00002801-00000470</td>\n",
       "      <td>977346d2dd8a9ba2d2eb0a07c9c81541</td>\n",
       "      <td>192777</td>\n",
       "      <td>NaN</td>\n",
       "      <td>NaN</td>\n",
       "      <td>168.131.13.224</td>\n",
       "      <td>0.0</td>\n",
       "      <td>Wireless-802.11</td>\n",
       "      <td>2019-09-20 0:25</td>\n",
       "      <td>...</td>\n",
       "      <td>08-AE-D6-30-A0-33</td>\n",
       "      <td>NaN</td>\n",
       "      <td>NaN</td>\n",
       "      <td>NaN</td>\n",
       "      <td>10.10.12.83</td>\n",
       "      <td>0.0</td>\n",
       "      <td>0.0</td>\n",
       "      <td>NaN</td>\n",
       "      <td>168.131.33.63</td>\n",
       "      <td>0</td>\n",
       "    </tr>\n",
       "    <tr>\n",
       "      <th>1</th>\n",
       "      <td>80667663.0</td>\n",
       "      <td>00003001-0000023D</td>\n",
       "      <td>45c4ba1bc250e54cfe82030e9c09ad1a</td>\n",
       "      <td>171594</td>\n",
       "      <td>NaN</td>\n",
       "      <td>NaN</td>\n",
       "      <td>168.131.13.224</td>\n",
       "      <td>0.0</td>\n",
       "      <td>Wireless-802.11</td>\n",
       "      <td>2019-09-20 1:24</td>\n",
       "      <td>...</td>\n",
       "      <td>A8-2B-B9-19-C8-5C</td>\n",
       "      <td>User-Request</td>\n",
       "      <td>NaN</td>\n",
       "      <td>NaN</td>\n",
       "      <td>10.10.1.144</td>\n",
       "      <td>0.0</td>\n",
       "      <td>0.0</td>\n",
       "      <td>NaN</td>\n",
       "      <td>168.131.33.63</td>\n",
       "      <td>1</td>\n",
       "    </tr>\n",
       "    <tr>\n",
       "      <th>2</th>\n",
       "      <td>80668351.0</td>\n",
       "      <td>00004001-00000236</td>\n",
       "      <td>d115f6d0b261fc722c5ec9a04823f9f3</td>\n",
       "      <td>193562</td>\n",
       "      <td>NaN</td>\n",
       "      <td>NaN</td>\n",
       "      <td>168.131.13.224</td>\n",
       "      <td>0.0</td>\n",
       "      <td>Wireless-802.11</td>\n",
       "      <td>2019-09-20 0:22</td>\n",
       "      <td>...</td>\n",
       "      <td>C4-93-D9-CE-A7-5D</td>\n",
       "      <td>User-Request</td>\n",
       "      <td>NaN</td>\n",
       "      <td>NaN</td>\n",
       "      <td>168.131.214.29</td>\n",
       "      <td>0.0</td>\n",
       "      <td>0.0</td>\n",
       "      <td>NaN</td>\n",
       "      <td>168.131.33.63</td>\n",
       "      <td>2</td>\n",
       "    </tr>\n",
       "    <tr>\n",
       "      <th>3</th>\n",
       "      <td>80675437.0</td>\n",
       "      <td>00021401-000011DC</td>\n",
       "      <td>7bb6ebbfe7ef1f768ace5bbf47c061f1</td>\n",
       "      <td>193562</td>\n",
       "      <td>NaN</td>\n",
       "      <td>NaN</td>\n",
       "      <td>168.131.13.222</td>\n",
       "      <td>0.0</td>\n",
       "      <td>Wireless-802.11</td>\n",
       "      <td>2019-09-20 0:26</td>\n",
       "      <td>...</td>\n",
       "      <td>C4-93-D9-CE-A7-5D</td>\n",
       "      <td>User-Request</td>\n",
       "      <td>NaN</td>\n",
       "      <td>NaN</td>\n",
       "      <td>10.10.40.252</td>\n",
       "      <td>0.0</td>\n",
       "      <td>0.0</td>\n",
       "      <td>NaN</td>\n",
       "      <td>168.131.33.63</td>\n",
       "      <td>3</td>\n",
       "    </tr>\n",
       "    <tr>\n",
       "      <th>4</th>\n",
       "      <td>80675438.0</td>\n",
       "      <td>00021401-000011DD</td>\n",
       "      <td>6b69327f47c917102170c73c08032506</td>\n",
       "      <td>142825</td>\n",
       "      <td>NaN</td>\n",
       "      <td>NaN</td>\n",
       "      <td>168.131.13.222</td>\n",
       "      <td>0.0</td>\n",
       "      <td>Wireless-802.11</td>\n",
       "      <td>2019-09-20 0:55</td>\n",
       "      <td>...</td>\n",
       "      <td>64-7B-CE-8D-64-7A</td>\n",
       "      <td>NaN</td>\n",
       "      <td>NaN</td>\n",
       "      <td>NaN</td>\n",
       "      <td>10.10.60.142</td>\n",
       "      <td>0.0</td>\n",
       "      <td>0.0</td>\n",
       "      <td>NaN</td>\n",
       "      <td>168.131.33.63</td>\n",
       "      <td>4</td>\n",
       "    </tr>\n",
       "  </tbody>\n",
       "</table>\n",
       "<p>5 rows × 31 columns</p>\n",
       "</div>"
      ],
      "text/plain": [
       "   jnuradacctid      acctsessionid                      acctuniqueid username  \\\n",
       "0    80667513.0  00002801-00000470  977346d2dd8a9ba2d2eb0a07c9c81541   192777   \n",
       "1    80667663.0  00003001-0000023D  45c4ba1bc250e54cfe82030e9c09ad1a   171594   \n",
       "2    80668351.0  00004001-00000236  d115f6d0b261fc722c5ec9a04823f9f3   193562   \n",
       "3    80675437.0  00021401-000011DC  7bb6ebbfe7ef1f768ace5bbf47c061f1   193562   \n",
       "4    80675438.0  00021401-000011DD  6b69327f47c917102170c73c08032506   142825   \n",
       "\n",
       "   groupname realm    nasipaddress  nasportid      nasporttype  \\\n",
       "0        NaN   NaN  168.131.13.224        0.0  Wireless-802.11   \n",
       "1        NaN   NaN  168.131.13.224        0.0  Wireless-802.11   \n",
       "2        NaN   NaN  168.131.13.224        0.0  Wireless-802.11   \n",
       "3        NaN   NaN  168.131.13.222        0.0  Wireless-802.11   \n",
       "4        NaN   NaN  168.131.13.222        0.0  Wireless-802.11   \n",
       "\n",
       "     acctstarttime  ...   callingstationid acctterminatecause  servicetype  \\\n",
       "0  2019-09-20 0:25  ...  08-AE-D6-30-A0-33                NaN          NaN   \n",
       "1  2019-09-20 1:24  ...  A8-2B-B9-19-C8-5C       User-Request          NaN   \n",
       "2  2019-09-20 0:22  ...  C4-93-D9-CE-A7-5D       User-Request          NaN   \n",
       "3  2019-09-20 0:26  ...  C4-93-D9-CE-A7-5D       User-Request          NaN   \n",
       "4  2019-09-20 0:55  ...  64-7B-CE-8D-64-7A                NaN          NaN   \n",
       "\n",
       "  framedprotocol framedipaddress acctstartdelay  acctstopdelay  \\\n",
       "0            NaN     10.10.12.83            0.0            0.0   \n",
       "1            NaN     10.10.1.144            0.0            0.0   \n",
       "2            NaN  168.131.214.29            0.0            0.0   \n",
       "3            NaN    10.10.40.252            0.0            0.0   \n",
       "4            NaN    10.10.60.142            0.0            0.0   \n",
       "\n",
       "   xascendsessionsvrkey         server sequence  \n",
       "0                   NaN  168.131.33.63        0  \n",
       "1                   NaN  168.131.33.63        1  \n",
       "2                   NaN  168.131.33.63        2  \n",
       "3                   NaN  168.131.33.63        3  \n",
       "4                   NaN  168.131.33.63        4  \n",
       "\n",
       "[5 rows x 31 columns]"
      ]
     },
     "execution_count": 7,
     "metadata": {},
     "output_type": "execute_result"
    }
   ],
   "source": [
    "ap_data.head(5)"
   ]
  },
  {
   "cell_type": "code",
   "execution_count": 8,
   "metadata": {},
   "outputs": [
    {
     "ename": "KeyError",
     "evalue": "\"['number'] not in index\"",
     "output_type": "error",
     "traceback": [
      "\u001b[1;31m---------------------------------------------------------------------------\u001b[0m",
      "\u001b[1;31mKeyError\u001b[0m                                  Traceback (most recent call last)",
      "\u001b[1;32m<ipython-input-8-e359750c82ad>\u001b[0m in \u001b[0;36m<module>\u001b[1;34m\u001b[0m\n\u001b[0;32m      1\u001b[0m \u001b[1;31m#사용할 칼럼만 추출\u001b[0m\u001b[1;33m\u001b[0m\u001b[1;33m\u001b[0m\u001b[1;33m\u001b[0m\u001b[0m\n\u001b[1;32m----> 2\u001b[1;33m \u001b[0map_data\u001b[0m \u001b[1;33m=\u001b[0m \u001b[0map_data\u001b[0m\u001b[1;33m[\u001b[0m\u001b[1;33m[\u001b[0m\u001b[1;34m\"username\"\u001b[0m\u001b[1;33m,\u001b[0m\u001b[1;34m\"number\"\u001b[0m\u001b[1;33m,\u001b[0m\u001b[1;34m\"place\"\u001b[0m\u001b[1;33m,\u001b[0m\u001b[1;34m\"acctstarttime\"\u001b[0m\u001b[1;33m,\u001b[0m\u001b[1;34m\"acctstoptime\"\u001b[0m\u001b[1;33m,\u001b[0m\u001b[1;34m'real_time'\u001b[0m\u001b[1;33m,\u001b[0m\u001b[1;34m\"acctsessiontime\"\u001b[0m\u001b[1;33m,\u001b[0m\u001b[1;34m\"calledstationid\"\u001b[0m\u001b[1;33m,\u001b[0m\u001b[1;34m\"ipaddress\"\u001b[0m\u001b[1;33m,\u001b[0m\u001b[1;34m\"callingstationid\"\u001b[0m\u001b[1;33m]\u001b[0m\u001b[1;33m]\u001b[0m\u001b[1;33m\u001b[0m\u001b[1;33m\u001b[0m\u001b[0m\n\u001b[0m",
      "\u001b[1;32m~\\Anaconda3\\envs\\tensorflow\\lib\\site-packages\\pandas\\core\\frame.py\u001b[0m in \u001b[0;36m__getitem__\u001b[1;34m(self, key)\u001b[0m\n\u001b[0;32m   2979\u001b[0m             \u001b[1;32mif\u001b[0m \u001b[0mis_iterator\u001b[0m\u001b[1;33m(\u001b[0m\u001b[0mkey\u001b[0m\u001b[1;33m)\u001b[0m\u001b[1;33m:\u001b[0m\u001b[1;33m\u001b[0m\u001b[1;33m\u001b[0m\u001b[0m\n\u001b[0;32m   2980\u001b[0m                 \u001b[0mkey\u001b[0m \u001b[1;33m=\u001b[0m \u001b[0mlist\u001b[0m\u001b[1;33m(\u001b[0m\u001b[0mkey\u001b[0m\u001b[1;33m)\u001b[0m\u001b[1;33m\u001b[0m\u001b[1;33m\u001b[0m\u001b[0m\n\u001b[1;32m-> 2981\u001b[1;33m             \u001b[0mindexer\u001b[0m \u001b[1;33m=\u001b[0m \u001b[0mself\u001b[0m\u001b[1;33m.\u001b[0m\u001b[0mloc\u001b[0m\u001b[1;33m.\u001b[0m\u001b[0m_convert_to_indexer\u001b[0m\u001b[1;33m(\u001b[0m\u001b[0mkey\u001b[0m\u001b[1;33m,\u001b[0m \u001b[0maxis\u001b[0m\u001b[1;33m=\u001b[0m\u001b[1;36m1\u001b[0m\u001b[1;33m,\u001b[0m \u001b[0mraise_missing\u001b[0m\u001b[1;33m=\u001b[0m\u001b[1;32mTrue\u001b[0m\u001b[1;33m)\u001b[0m\u001b[1;33m\u001b[0m\u001b[1;33m\u001b[0m\u001b[0m\n\u001b[0m\u001b[0;32m   2982\u001b[0m \u001b[1;33m\u001b[0m\u001b[0m\n\u001b[0;32m   2983\u001b[0m         \u001b[1;31m# take() does not accept boolean indexers\u001b[0m\u001b[1;33m\u001b[0m\u001b[1;33m\u001b[0m\u001b[1;33m\u001b[0m\u001b[0m\n",
      "\u001b[1;32m~\\Anaconda3\\envs\\tensorflow\\lib\\site-packages\\pandas\\core\\indexing.py\u001b[0m in \u001b[0;36m_convert_to_indexer\u001b[1;34m(self, obj, axis, is_setter, raise_missing)\u001b[0m\n\u001b[0;32m   1269\u001b[0m                 \u001b[1;31m# When setting, missing keys are not allowed, even with .loc:\u001b[0m\u001b[1;33m\u001b[0m\u001b[1;33m\u001b[0m\u001b[1;33m\u001b[0m\u001b[0m\n\u001b[0;32m   1270\u001b[0m                 \u001b[0mkwargs\u001b[0m \u001b[1;33m=\u001b[0m \u001b[1;33m{\u001b[0m\u001b[1;34m\"raise_missing\"\u001b[0m\u001b[1;33m:\u001b[0m \u001b[1;32mTrue\u001b[0m \u001b[1;32mif\u001b[0m \u001b[0mis_setter\u001b[0m \u001b[1;32melse\u001b[0m \u001b[0mraise_missing\u001b[0m\u001b[1;33m}\u001b[0m\u001b[1;33m\u001b[0m\u001b[1;33m\u001b[0m\u001b[0m\n\u001b[1;32m-> 1271\u001b[1;33m                 \u001b[1;32mreturn\u001b[0m \u001b[0mself\u001b[0m\u001b[1;33m.\u001b[0m\u001b[0m_get_listlike_indexer\u001b[0m\u001b[1;33m(\u001b[0m\u001b[0mobj\u001b[0m\u001b[1;33m,\u001b[0m \u001b[0maxis\u001b[0m\u001b[1;33m,\u001b[0m \u001b[1;33m**\u001b[0m\u001b[0mkwargs\u001b[0m\u001b[1;33m)\u001b[0m\u001b[1;33m[\u001b[0m\u001b[1;36m1\u001b[0m\u001b[1;33m]\u001b[0m\u001b[1;33m\u001b[0m\u001b[1;33m\u001b[0m\u001b[0m\n\u001b[0m\u001b[0;32m   1272\u001b[0m         \u001b[1;32melse\u001b[0m\u001b[1;33m:\u001b[0m\u001b[1;33m\u001b[0m\u001b[1;33m\u001b[0m\u001b[0m\n\u001b[0;32m   1273\u001b[0m             \u001b[1;32mtry\u001b[0m\u001b[1;33m:\u001b[0m\u001b[1;33m\u001b[0m\u001b[1;33m\u001b[0m\u001b[0m\n",
      "\u001b[1;32m~\\Anaconda3\\envs\\tensorflow\\lib\\site-packages\\pandas\\core\\indexing.py\u001b[0m in \u001b[0;36m_get_listlike_indexer\u001b[1;34m(self, key, axis, raise_missing)\u001b[0m\n\u001b[0;32m   1076\u001b[0m \u001b[1;33m\u001b[0m\u001b[0m\n\u001b[0;32m   1077\u001b[0m         self._validate_read_indexer(\n\u001b[1;32m-> 1078\u001b[1;33m             \u001b[0mkeyarr\u001b[0m\u001b[1;33m,\u001b[0m \u001b[0mindexer\u001b[0m\u001b[1;33m,\u001b[0m \u001b[0mo\u001b[0m\u001b[1;33m.\u001b[0m\u001b[0m_get_axis_number\u001b[0m\u001b[1;33m(\u001b[0m\u001b[0maxis\u001b[0m\u001b[1;33m)\u001b[0m\u001b[1;33m,\u001b[0m \u001b[0mraise_missing\u001b[0m\u001b[1;33m=\u001b[0m\u001b[0mraise_missing\u001b[0m\u001b[1;33m\u001b[0m\u001b[1;33m\u001b[0m\u001b[0m\n\u001b[0m\u001b[0;32m   1079\u001b[0m         )\n\u001b[0;32m   1080\u001b[0m         \u001b[1;32mreturn\u001b[0m \u001b[0mkeyarr\u001b[0m\u001b[1;33m,\u001b[0m \u001b[0mindexer\u001b[0m\u001b[1;33m\u001b[0m\u001b[1;33m\u001b[0m\u001b[0m\n",
      "\u001b[1;32m~\\Anaconda3\\envs\\tensorflow\\lib\\site-packages\\pandas\\core\\indexing.py\u001b[0m in \u001b[0;36m_validate_read_indexer\u001b[1;34m(self, key, indexer, axis, raise_missing)\u001b[0m\n\u001b[0;32m   1169\u001b[0m             \u001b[1;32mif\u001b[0m \u001b[1;32mnot\u001b[0m \u001b[1;33m(\u001b[0m\u001b[0mself\u001b[0m\u001b[1;33m.\u001b[0m\u001b[0mname\u001b[0m \u001b[1;33m==\u001b[0m \u001b[1;34m\"loc\"\u001b[0m \u001b[1;32mand\u001b[0m \u001b[1;32mnot\u001b[0m \u001b[0mraise_missing\u001b[0m\u001b[1;33m)\u001b[0m\u001b[1;33m:\u001b[0m\u001b[1;33m\u001b[0m\u001b[1;33m\u001b[0m\u001b[0m\n\u001b[0;32m   1170\u001b[0m                 \u001b[0mnot_found\u001b[0m \u001b[1;33m=\u001b[0m \u001b[0mlist\u001b[0m\u001b[1;33m(\u001b[0m\u001b[0mset\u001b[0m\u001b[1;33m(\u001b[0m\u001b[0mkey\u001b[0m\u001b[1;33m)\u001b[0m \u001b[1;33m-\u001b[0m \u001b[0mset\u001b[0m\u001b[1;33m(\u001b[0m\u001b[0max\u001b[0m\u001b[1;33m)\u001b[0m\u001b[1;33m)\u001b[0m\u001b[1;33m\u001b[0m\u001b[1;33m\u001b[0m\u001b[0m\n\u001b[1;32m-> 1171\u001b[1;33m                 \u001b[1;32mraise\u001b[0m \u001b[0mKeyError\u001b[0m\u001b[1;33m(\u001b[0m\u001b[1;34m\"{} not in index\"\u001b[0m\u001b[1;33m.\u001b[0m\u001b[0mformat\u001b[0m\u001b[1;33m(\u001b[0m\u001b[0mnot_found\u001b[0m\u001b[1;33m)\u001b[0m\u001b[1;33m)\u001b[0m\u001b[1;33m\u001b[0m\u001b[1;33m\u001b[0m\u001b[0m\n\u001b[0m\u001b[0;32m   1172\u001b[0m \u001b[1;33m\u001b[0m\u001b[0m\n\u001b[0;32m   1173\u001b[0m             \u001b[1;31m# we skip the warning on Categorical/Interval\u001b[0m\u001b[1;33m\u001b[0m\u001b[1;33m\u001b[0m\u001b[1;33m\u001b[0m\u001b[0m\n",
      "\u001b[1;31mKeyError\u001b[0m: \"['number'] not in index\""
     ]
    }
   ],
   "source": [
    "#사용할 칼럼만 추출\n",
    "ap_data = ap_data[[\"username\",\"number\",\"place\",\"acctstarttime\",\"acctstoptime\",'real_time',\"acctsessiontime\",\"calledstationid\",\"ipaddress\",\"callingstationid\"]]"
   ]
  },
  {
   "cell_type": "code",
   "execution_count": null,
   "metadata": {},
   "outputs": [],
   "source": [
    "ap_data.head(-1)"
   ]
  },
  {
   "cell_type": "code",
   "execution_count": null,
   "metadata": {},
   "outputs": [],
   "source": [
    "ap_data['acctstoptime'] =  pd.to_datetime(ap_data['acctstoptime'], infer_datetime_format=True)"
   ]
  },
  {
   "cell_type": "code",
   "execution_count": null,
   "metadata": {},
   "outputs": [],
   "source": [
    "ap_data['acctstarttime'] =  pd.to_datetime(ap_data['acctstarttime'], infer_datetime_format=True)"
   ]
  },
  {
   "cell_type": "code",
   "execution_count": null,
   "metadata": {},
   "outputs": [],
   "source": [
    "ap_data['acctstarttime_year'] = ap_data['acctstarttime'].dt.year\n",
    "ap_data['acctstarttime_month'] = ap_data['acctstarttime'].dt.month\n",
    "ap_data['acctstarttime_day'] = ap_data['acctstarttime'].dt.day\n",
    "ap_data['acctstarttime_hour'] = ap_data['acctstarttime'].dt.hour\n",
    "ap_data['acctstarttime_minute'] = ap_data['acctstarttime'].dt.minute"
   ]
  },
  {
   "cell_type": "code",
   "execution_count": null,
   "metadata": {},
   "outputs": [],
   "source": [
    "ap_data.info()"
   ]
  },
  {
   "cell_type": "code",
   "execution_count": null,
   "metadata": {},
   "outputs": [],
   "source": [
    "ap_data.head(5)"
   ]
  },
  {
   "cell_type": "code",
   "execution_count": null,
   "metadata": {},
   "outputs": [],
   "source": [
    "ap_data.isnull().sum()"
   ]
  },
  {
   "cell_type": "code",
   "execution_count": null,
   "metadata": {},
   "outputs": [],
   "source": [
    "#null값을 가진 행 모두 제거\n",
    "ap_data = ap_data.dropna(how = 'any',axis = 0)"
   ]
  },
  {
   "cell_type": "code",
   "execution_count": null,
   "metadata": {},
   "outputs": [],
   "source": []
  },
  {
   "cell_type": "code",
   "execution_count": null,
   "metadata": {},
   "outputs": [],
   "source": [
    "ap_data.shape"
   ]
  },
  {
   "cell_type": "code",
   "execution_count": null,
   "metadata": {},
   "outputs": [],
   "source": [
    "ap_data.head(20)"
   ]
  },
  {
   "cell_type": "code",
   "execution_count": null,
   "metadata": {},
   "outputs": [],
   "source": [
    "# ap_data.describe()"
   ]
  },
  {
   "cell_type": "code",
   "execution_count": null,
   "metadata": {},
   "outputs": [],
   "source": [
    "# date_data =pd.DataFrame()\n",
    "# date_data.loc[:,'date']=pd.Series(pd.date_range(\"2019-9-20 00:00\", \"2019-9-25 00:00\", freq=\"H\"))\n",
    "# date_data['all_num']=0\n",
    "\n",
    "# date_data['datetime'] = pd.to_datetime(date_data['date'])\n",
    "# date_data = date_data.set_index(\"datetime\")\n",
    "# date_data.head(20)"
   ]
  },
  {
   "cell_type": "code",
   "execution_count": null,
   "metadata": {},
   "outputs": [],
   "source": [
    "date_data =pd.DataFrame()\n",
    "date_data.loc[:,'date']=pd.Series(pd.date_range(\"2019-9-20\", \"2019-9-25\", freq=\"60T\"))\n",
    "\n",
    "#여기서 00:00:00의 all_num의 의미는 0-5분까지의 사람 숫자로 계산할 것이다.\n",
    "date_data['all_num']=0\n",
    "date_data.info()\n",
    "# date_data.head(20)"
   ]
  },
  {
   "cell_type": "code",
   "execution_count": null,
   "metadata": {},
   "outputs": [],
   "source": [
    "date_data.head(5)"
   ]
  },
  {
   "cell_type": "code",
   "execution_count": null,
   "metadata": {},
   "outputs": [],
   "source": [
    "# date_data.iloc[:,0]"
   ]
  },
  {
   "cell_type": "code",
   "execution_count": null,
   "metadata": {},
   "outputs": [],
   "source": [
    "class Queue:\n",
    "    queue = []\n",
    "    \n",
    "    def __init__(self):\n",
    "        self.queue = [] \n",
    " \n",
    "    def push(self, num):\n",
    "        if self.size() == 10:\n",
    "            self.pop()\n",
    "        self.queue.append(num)\n",
    "        \n",
    " \n",
    "    def pop(self):\n",
    "        return self.queue.pop(0) if len(self.queue) != 0 else -1\n",
    " \n",
    "    def size(self):\n",
    "        return len(self.queue)\n",
    " \n",
    "    def empty(self):\n",
    "        return 1 if self.size() == 0 else 0\n",
    " \n",
    "    def front(self):\n",
    "        return self.queue[0] if self.size() != 0 else -1\n",
    " \n",
    "    def back(self):\n",
    "        return self.queue[-1] if self.size() != 0 else -1\n",
    "  "
   ]
  },
  {
   "cell_type": "code",
   "execution_count": null,
   "metadata": {},
   "outputs": [],
   "source": [
    " \n",
    "#몇개의 숫자를 받을건지\n",
    "\n",
    "queue = Queue()\n",
    "queue.push(1)\n",
    "queue.push(2)\n",
    "queue.push(3)\n",
    "queue.push(4)\n",
    "queue.push(5)\n",
    "queue.push(6)\n",
    "queue.push(7)\n",
    "queue.push(8)\n",
    "queue.push(9)\n",
    "queue.push(10)\n",
    "queue.push(11)\n",
    "queue.push(12)\n",
    "queue.pop()\n",
    "queue.pop()\n",
    "queue.pop()\n",
    "\n",
    "# count = list_duplicates_of(queue,7)\n",
    "# print(count)\n",
    "print(queue.queue)"
   ]
  },
  {
   "cell_type": "code",
   "execution_count": null,
   "metadata": {},
   "outputs": [],
   "source": [
    "# 중복 인덱스 값 추출\n",
    "\n",
    "def list_duplicates_of(seq,item):\n",
    "    start_at = -1\n",
    "    locs = []\n",
    "    while True:\n",
    "        try:\n",
    "            loc = seq.index(item,start_at+1)\n",
    "        except ValueError:\n",
    "            break\n",
    "        else:\n",
    "            locs.append(loc)\n",
    "            start_at = loc\n",
    "    return locs"
   ]
  },
  {
   "cell_type": "code",
   "execution_count": null,
   "metadata": {},
   "outputs": [],
   "source": [
    "list = [7]\n",
    "value =list[0]"
   ]
  },
  {
   "cell_type": "code",
   "execution_count": null,
   "metadata": {},
   "outputs": [],
   "source": [
    "list_duplicates_of(queue.queue,list[0])"
   ]
  },
  {
   "cell_type": "code",
   "execution_count": null,
   "metadata": {},
   "outputs": [],
   "source": [
    "queue.queue[1]"
   ]
  },
  {
   "cell_type": "code",
   "execution_count": null,
   "metadata": {},
   "outputs": [],
   "source": [
    "ap_data.head(20)"
   ]
  },
  {
   "cell_type": "code",
   "execution_count": null,
   "metadata": {},
   "outputs": [],
   "source": [
    "# 중복값 제거 (큐 이용)\n",
    "\n",
    "queue1 = Queue()  #username 0\n",
    "queue2 = Queue()  #acctstarttime  3\n",
    "queue3 = Queue() #acctsessiontime   6\n",
    "queue4 = Queue()  #index  1\n",
    "\n",
    "minn = 0\n",
    "\n",
    "for idx1, row1 in date_data.iterrows():\n",
    "    queue1.queue = [] \n",
    "    queue2.queue = [] \n",
    "    queue3.queue = [] \n",
    "    queue4.queue = []\n",
    "    print(\"date_data : \", row1.date)\n",
    "    \n",
    "    for idx, row in ap_data.iterrows(): \n",
    "        print(\"idx : \", idx)\n",
    "        timestamp = row.acctstarttime\n",
    "        print(\"timestamp : \", timestamp)\n",
    "        \n",
    "        while(date_data.iat[idx1,0] < timestamp) and (timestamp < date_data.iat[idx1+1,0]):\n",
    "            list = queue1.queue\n",
    "            print(\"list : \", list)\n",
    "            print(\"username : \", ap_data.iat[idx-1,0])\n",
    "            if ap_data.iat[idx-1,0] in list :\n",
    "                print(\"중복!!\")\n",
    "                list1 = list_duplicates_of(queue1.queue, ap_data.iat[idx-1,0])\n",
    "                print(\"list1 : \", list1)\n",
    "                \n",
    "                if ap_data.iat[idx,6] < queue3.queue[list1[0]]:\n",
    "                    minn = ap_data.iat[idx-1,1]\n",
    "                else:\n",
    "                    minn = queue4.queue[list1[0]] \n",
    "                    \n",
    "                #ap_data = ap_data[ap_data.number != minn]\n",
    "                break\n",
    "    \n",
    "            print(\"헤이\")\n",
    "            queue1.push(ap_data.iat[idx-1,0])\n",
    "            print(\"queue1 : \",queue1.queue)\n",
    "            queue2.push(ap_data.iat[idx-1,3])\n",
    "            print(\"queue2 : \",queue2.queue)\n",
    "            queue3.push(ap_data.iat[idx-1,6])\n",
    "            print(\"queue3 : \",queue3.queue)\n",
    "            queue4.push(ap_data.iat[idx-1,1]) \n",
    "            print(\"queue4 : \",queue4.queue)\n",
    "            break\n",
    "\n"
   ]
  },
  {
   "cell_type": "code",
   "execution_count": null,
   "metadata": {},
   "outputs": [],
   "source": [
    "print(np.nan)"
   ]
  },
  {
   "cell_type": "code",
   "execution_count": null,
   "metadata": {},
   "outputs": [],
   "source": []
  },
  {
   "cell_type": "code",
   "execution_count": null,
   "metadata": {},
   "outputs": [],
   "source": []
  },
  {
   "cell_type": "code",
   "execution_count": null,
   "metadata": {},
   "outputs": [],
   "source": [
    "# # 중복값 제거 (큐 이용)\n",
    "\n",
    "# queue1 = Queue()  #username 0\n",
    "# queue2 = Queue()  #acctstarttime  3\n",
    "# queue3 = Queue() #acctsessiontime   6\n",
    "# queue4 = Queue()  #index  1\n",
    "\n",
    "# minn = 0\n",
    "\n",
    "# for idx1, row1 in date_data.iterrows():\n",
    "#     queue1.queue = [] \n",
    "#     queue2.queue = [] \n",
    "#     queue3.queue = [] \n",
    "#     queue4.queue = []\n",
    "#     print(\"date_data : \", row1.date)\n",
    "    \n",
    "#     for idx, row in ap_data.iterrows(): \n",
    "#         print(\"idx : \", idx)\n",
    "#         timestamp = row.acctstarttime\n",
    "#         print(\"timestamp : \", timestamp)\n",
    "        \n",
    "#         while(date_data.iat[idx1,0] < timestamp) and (timestamp < date_data.iat[idx1+1,0]):\n",
    "#             list = queue1.queue\n",
    "#             print(\"list : \", list)\n",
    "#             print(\"username : \", ap_data.iat[idx-1,0])\n",
    "            \n",
    "#             if ap_data.iat[idx-1,0] == 'nan':\n",
    "#                 break\n",
    "            \n",
    "#             if ap_data.iat[idx-1,0] in list :\n",
    "#                 print(\"중복!!\")\n",
    "#                 list1 = list_duplicates_of(queue1.queue, ap_data.iat[idx-1,0])\n",
    "#                 print(\"list1 : \", list1)\n",
    "                \n",
    "#                 if ap_data.iat[idx,6] < queue3.queue[list1[0]]:\n",
    "#                     minn = ap_data.iat[idx-1,1]\n",
    "#                 else:\n",
    "#                     minn = queue4.queue[list1[0]] \n",
    "                    \n",
    "#                 ap_data[[ap_data['number'] == minn],:] = np.nan\n",
    "#                 #ap_data = ap_data[ap_data.number != minn]\n",
    "#                 break\n",
    "      \n",
    "#             print(\"헤이\")\n",
    "#             queue1.push(ap_data.iat[idx-1,0])\n",
    "#             print(\"queue1 : \",queue1.queue)\n",
    "#             queue2.push(ap_data.iat[idx-1,3])\n",
    "#             print(\"queue2 : \",queue2.queue)\n",
    "#             queue3.push(ap_data.iat[idx-1,6])\n",
    "#             print(\"queue3 : \",queue3.queue)\n",
    "#             queue4.push(ap_data.iat[idx-1,1]) \n",
    "#             print(\"queue4 : \",queue4.queue)\n",
    "#             break\n",
    "\n",
    "                \n",
    "#             print(\"헤이\")   \n",
    "#             queue1.push(ap_data.iloc[idx,0])\n",
    "#             print(\"queue1 : \",queue1.queue)\n",
    "#             queue2.push(ap_data.iloc[idx,3])\n",
    "#             print(\"queue2 : \",queue2.queue)\n",
    "#             queue3.push(ap_data.iloc[idx,6])\n",
    "#             print(\"queue3 : \",queue3.queue)\n",
    "#             queue4.push(ap_data.iloc[idx,1]) \n",
    "#             print(\"queue4 : \",queue4.queue)\n",
    "#             break\n",
    "        "
   ]
  },
  {
   "cell_type": "code",
   "execution_count": null,
   "metadata": {},
   "outputs": [],
   "source": []
  },
  {
   "cell_type": "code",
   "execution_count": null,
   "metadata": {},
   "outputs": [],
   "source": []
  },
  {
   "cell_type": "code",
   "execution_count": null,
   "metadata": {},
   "outputs": [],
   "source": []
  },
  {
   "cell_type": "code",
   "execution_count": null,
   "metadata": {},
   "outputs": [],
   "source": []
  },
  {
   "cell_type": "code",
   "execution_count": null,
   "metadata": {},
   "outputs": [],
   "source": []
  },
  {
   "cell_type": "code",
   "execution_count": null,
   "metadata": {},
   "outputs": [],
   "source": []
  },
  {
   "cell_type": "code",
   "execution_count": null,
   "metadata": {},
   "outputs": [],
   "source": []
  },
  {
   "cell_type": "code",
   "execution_count": null,
   "metadata": {},
   "outputs": [],
   "source": []
  },
  {
   "cell_type": "code",
   "execution_count": null,
   "metadata": {},
   "outputs": [],
   "source": []
  },
  {
   "cell_type": "code",
   "execution_count": null,
   "metadata": {},
   "outputs": [],
   "source": []
  },
  {
   "cell_type": "code",
   "execution_count": null,
   "metadata": {},
   "outputs": [],
   "source": []
  },
  {
   "cell_type": "code",
   "execution_count": null,
   "metadata": {},
   "outputs": [],
   "source": []
  },
  {
   "cell_type": "code",
   "execution_count": null,
   "metadata": {},
   "outputs": [],
   "source": []
  },
  {
   "cell_type": "code",
   "execution_count": null,
   "metadata": {},
   "outputs": [],
   "source": []
  },
  {
   "cell_type": "code",
   "execution_count": null,
   "metadata": {},
   "outputs": [],
   "source": []
  },
  {
   "cell_type": "code",
   "execution_count": null,
   "metadata": {},
   "outputs": [],
   "source": []
  },
  {
   "cell_type": "code",
   "execution_count": null,
   "metadata": {},
   "outputs": [],
   "source": []
  },
  {
   "cell_type": "code",
   "execution_count": null,
   "metadata": {},
   "outputs": [],
   "source": []
  },
  {
   "cell_type": "code",
   "execution_count": null,
   "metadata": {},
   "outputs": [],
   "source": []
  },
  {
   "cell_type": "code",
   "execution_count": null,
   "metadata": {},
   "outputs": [],
   "source": []
  },
  {
   "cell_type": "code",
   "execution_count": null,
   "metadata": {},
   "outputs": [],
   "source": []
  },
  {
   "cell_type": "code",
   "execution_count": null,
   "metadata": {},
   "outputs": [],
   "source": []
  },
  {
   "cell_type": "code",
   "execution_count": null,
   "metadata": {},
   "outputs": [],
   "source": []
  },
  {
   "cell_type": "code",
   "execution_count": null,
   "metadata": {},
   "outputs": [],
   "source": []
  },
  {
   "cell_type": "code",
   "execution_count": null,
   "metadata": {},
   "outputs": [],
   "source": []
  },
  {
   "cell_type": "code",
   "execution_count": null,
   "metadata": {},
   "outputs": [],
   "source": []
  },
  {
   "cell_type": "code",
   "execution_count": null,
   "metadata": {},
   "outputs": [],
   "source": []
  },
  {
   "cell_type": "code",
   "execution_count": null,
   "metadata": {},
   "outputs": [],
   "source": []
  },
  {
   "cell_type": "code",
   "execution_count": null,
   "metadata": {},
   "outputs": [],
   "source": []
  },
  {
   "cell_type": "code",
   "execution_count": null,
   "metadata": {},
   "outputs": [],
   "source": []
  },
  {
   "cell_type": "code",
   "execution_count": null,
   "metadata": {},
   "outputs": [],
   "source": []
  },
  {
   "cell_type": "code",
   "execution_count": null,
   "metadata": {},
   "outputs": [],
   "source": []
  },
  {
   "cell_type": "code",
   "execution_count": null,
   "metadata": {},
   "outputs": [],
   "source": []
  },
  {
   "cell_type": "code",
   "execution_count": null,
   "metadata": {},
   "outputs": [],
   "source": []
  },
  {
   "cell_type": "code",
   "execution_count": null,
   "metadata": {},
   "outputs": [],
   "source": []
  },
  {
   "cell_type": "code",
   "execution_count": null,
   "metadata": {},
   "outputs": [],
   "source": []
  },
  {
   "cell_type": "code",
   "execution_count": null,
   "metadata": {},
   "outputs": [],
   "source": []
  },
  {
   "cell_type": "code",
   "execution_count": null,
   "metadata": {},
   "outputs": [],
   "source": []
  },
  {
   "cell_type": "code",
   "execution_count": null,
   "metadata": {},
   "outputs": [],
   "source": []
  },
  {
   "cell_type": "code",
   "execution_count": null,
   "metadata": {},
   "outputs": [],
   "source": []
  },
  {
   "cell_type": "code",
   "execution_count": null,
   "metadata": {},
   "outputs": [],
   "source": []
  },
  {
   "cell_type": "code",
   "execution_count": null,
   "metadata": {},
   "outputs": [],
   "source": []
  },
  {
   "cell_type": "code",
   "execution_count": null,
   "metadata": {},
   "outputs": [],
   "source": []
  },
  {
   "cell_type": "code",
   "execution_count": null,
   "metadata": {},
   "outputs": [],
   "source": []
  },
  {
   "cell_type": "code",
   "execution_count": null,
   "metadata": {},
   "outputs": [],
   "source": []
  },
  {
   "cell_type": "code",
   "execution_count": null,
   "metadata": {},
   "outputs": [],
   "source": []
  },
  {
   "cell_type": "code",
   "execution_count": null,
   "metadata": {},
   "outputs": [],
   "source": []
  },
  {
   "cell_type": "code",
   "execution_count": null,
   "metadata": {},
   "outputs": [],
   "source": []
  },
  {
   "cell_type": "code",
   "execution_count": null,
   "metadata": {},
   "outputs": [],
   "source": []
  },
  {
   "cell_type": "code",
   "execution_count": null,
   "metadata": {},
   "outputs": [],
   "source": []
  },
  {
   "cell_type": "code",
   "execution_count": null,
   "metadata": {},
   "outputs": [],
   "source": []
  },
  {
   "cell_type": "code",
   "execution_count": null,
   "metadata": {},
   "outputs": [],
   "source": []
  },
  {
   "cell_type": "code",
   "execution_count": null,
   "metadata": {},
   "outputs": [],
   "source": []
  },
  {
   "cell_type": "code",
   "execution_count": null,
   "metadata": {},
   "outputs": [],
   "source": []
  },
  {
   "cell_type": "code",
   "execution_count": null,
   "metadata": {},
   "outputs": [],
   "source": []
  },
  {
   "cell_type": "code",
   "execution_count": null,
   "metadata": {},
   "outputs": [],
   "source": []
  },
  {
   "cell_type": "code",
   "execution_count": null,
   "metadata": {},
   "outputs": [],
   "source": []
  },
  {
   "cell_type": "code",
   "execution_count": null,
   "metadata": {},
   "outputs": [],
   "source": []
  },
  {
   "cell_type": "code",
   "execution_count": null,
   "metadata": {},
   "outputs": [],
   "source": []
  }
 ],
 "metadata": {
  "kernelspec": {
   "display_name": "tensorflow",
   "language": "python",
   "name": "tensorflow"
  },
  "language_info": {
   "codemirror_mode": {
    "name": "ipython",
    "version": 3
   },
   "file_extension": ".py",
   "mimetype": "text/x-python",
   "name": "python",
   "nbconvert_exporter": "python",
   "pygments_lexer": "ipython3",
   "version": "3.6.7"
  }
 },
 "nbformat": 4,
 "nbformat_minor": 2
}
