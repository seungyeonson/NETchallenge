{
 "cells": [
  {
   "cell_type": "code",
   "execution_count": 24,
   "metadata": {},
   "outputs": [],
   "source": [
    "import pandas as pd\n",
    "import numpy as np\n"
   ]
  },
  {
   "cell_type": "code",
   "execution_count": 25,
   "metadata": {},
   "outputs": [],
   "source": [
    "#파일 불러오기\n",
    "ap_data = pd.read_excel('92024LOG.xlsx',sheet_name = 'Sheet3')"
   ]
  },
  {
   "cell_type": "code",
   "execution_count": 26,
   "metadata": {},
   "outputs": [
    {
     "data": {
      "text/html": [
       "<div>\n",
       "<style scoped>\n",
       "    .dataframe tbody tr th:only-of-type {\n",
       "        vertical-align: middle;\n",
       "    }\n",
       "\n",
       "    .dataframe tbody tr th {\n",
       "        vertical-align: top;\n",
       "    }\n",
       "\n",
       "    .dataframe thead th {\n",
       "        text-align: right;\n",
       "    }\n",
       "</style>\n",
       "<table border=\"1\" class=\"dataframe\">\n",
       "  <thead>\n",
       "    <tr style=\"text-align: right;\">\n",
       "      <th></th>\n",
       "      <th>Unnamed: 0</th>\n",
       "      <th>jnuradacctid</th>\n",
       "      <th>acctsessionid</th>\n",
       "      <th>acctuniqueid</th>\n",
       "      <th>username</th>\n",
       "      <th>groupname</th>\n",
       "      <th>realm</th>\n",
       "      <th>nasipaddress</th>\n",
       "      <th>nasportid</th>\n",
       "      <th>nasporttype</th>\n",
       "      <th>...</th>\n",
       "      <th>location</th>\n",
       "      <th>callingstationid</th>\n",
       "      <th>acctterminatecause</th>\n",
       "      <th>servicetype</th>\n",
       "      <th>framedprotocol</th>\n",
       "      <th>framedipaddress</th>\n",
       "      <th>acctstartdelay</th>\n",
       "      <th>acctstopdelay</th>\n",
       "      <th>xascendsessionsvrkey</th>\n",
       "      <th>server</th>\n",
       "    </tr>\n",
       "  </thead>\n",
       "  <tbody>\n",
       "    <tr>\n",
       "      <th>0</th>\n",
       "      <td>613</td>\n",
       "      <td>80722939</td>\n",
       "      <td>1628406C4D73D89A445D83A651</td>\n",
       "      <td>67aaf91717d71e4063b4e6914826b5ea</td>\n",
       "      <td>162840</td>\n",
       "      <td>NaN</td>\n",
       "      <td>NaN</td>\n",
       "      <td>168.131.13.221</td>\n",
       "      <td>0</td>\n",
       "      <td>Wireless802.11</td>\n",
       "      <td>...</td>\n",
       "      <td>도서관별관(백도)</td>\n",
       "      <td>6C4D73D89A44</td>\n",
       "      <td>IdleTimeout</td>\n",
       "      <td>NaN</td>\n",
       "      <td>NaN</td>\n",
       "      <td>168.131.195.12</td>\n",
       "      <td>0</td>\n",
       "      <td>0</td>\n",
       "      <td>NaN</td>\n",
       "      <td>168.131.33.63</td>\n",
       "    </tr>\n",
       "    <tr>\n",
       "      <th>1</th>\n",
       "      <td>1573</td>\n",
       "      <td>80738046</td>\n",
       "      <td>0000F8E61A4768475D846AD4</td>\n",
       "      <td>9a9a10384b73a7479239dcbd1e71dbf8</td>\n",
       "      <td>0</td>\n",
       "      <td>NaN</td>\n",
       "      <td>NaN</td>\n",
       "      <td>168.131.13.221</td>\n",
       "      <td>0</td>\n",
       "      <td>Wireless802.11</td>\n",
       "      <td>...</td>\n",
       "      <td>도서관별관(백도)</td>\n",
       "      <td>F8E61A476847</td>\n",
       "      <td>UserRequest</td>\n",
       "      <td>NaN</td>\n",
       "      <td>NaN</td>\n",
       "      <td>168.131.157.23</td>\n",
       "      <td>0</td>\n",
       "      <td>0</td>\n",
       "      <td>NaN</td>\n",
       "      <td>168.131.33.63</td>\n",
       "    </tr>\n",
       "    <tr>\n",
       "      <th>2</th>\n",
       "      <td>3651</td>\n",
       "      <td>80736436</td>\n",
       "      <td>?좎썝=EC=9D507705EE6C665D8493D6</td>\n",
       "      <td>5d2b5d46b025ff651e59399d910c6d39</td>\n",
       "      <td>?좎썝?</td>\n",
       "      <td>NaN</td>\n",
       "      <td>NaN</td>\n",
       "      <td>168.131.13.221</td>\n",
       "      <td>0</td>\n",
       "      <td>Wireless802.11</td>\n",
       "      <td>...</td>\n",
       "      <td>도서관별관(백도)</td>\n",
       "      <td>507705EE6C66</td>\n",
       "      <td>IdleTimeout</td>\n",
       "      <td>NaN</td>\n",
       "      <td>NaN</td>\n",
       "      <td>168.131.157.86</td>\n",
       "      <td>0</td>\n",
       "      <td>0</td>\n",
       "      <td>NaN</td>\n",
       "      <td>168.131.33.63</td>\n",
       "    </tr>\n",
       "    <tr>\n",
       "      <th>3</th>\n",
       "      <td>39985</td>\n",
       "      <td>80777247</td>\n",
       "      <td>111552DC56E78CCFC95D8481E8</td>\n",
       "      <td>d6bb9e6bcc360f7c3dad2ae73b768742</td>\n",
       "      <td>111552</td>\n",
       "      <td>NaN</td>\n",
       "      <td>NaN</td>\n",
       "      <td>168.131.13.221</td>\n",
       "      <td>0</td>\n",
       "      <td>Wireless802.11</td>\n",
       "      <td>...</td>\n",
       "      <td>도서관별관(백도)</td>\n",
       "      <td>DC56E78CCFC9</td>\n",
       "      <td>IdleTimeout</td>\n",
       "      <td>NaN</td>\n",
       "      <td>NaN</td>\n",
       "      <td>168.131.214.34</td>\n",
       "      <td>0</td>\n",
       "      <td>0</td>\n",
       "      <td>NaN</td>\n",
       "      <td>168.131.33.63</td>\n",
       "    </tr>\n",
       "    <tr>\n",
       "      <th>4</th>\n",
       "      <td>39986</td>\n",
       "      <td>80777248</td>\n",
       "      <td>111552DC56E78CCFC95D8485D1</td>\n",
       "      <td>17767c088e25409e1cffe030ad3f9873</td>\n",
       "      <td>111552</td>\n",
       "      <td>NaN</td>\n",
       "      <td>NaN</td>\n",
       "      <td>168.131.13.221</td>\n",
       "      <td>0</td>\n",
       "      <td>Wireless802.11</td>\n",
       "      <td>...</td>\n",
       "      <td>도서관별관(백도)</td>\n",
       "      <td>DC56E78CCFC9</td>\n",
       "      <td>IdleTimeout</td>\n",
       "      <td>NaN</td>\n",
       "      <td>NaN</td>\n",
       "      <td>168.131.174.12</td>\n",
       "      <td>0</td>\n",
       "      <td>0</td>\n",
       "      <td>NaN</td>\n",
       "      <td>168.131.33.63</td>\n",
       "    </tr>\n",
       "    <tr>\n",
       "      <th>5</th>\n",
       "      <td>39988</td>\n",
       "      <td>80777250</td>\n",
       "      <td>111674749EAF4835765D843BDC</td>\n",
       "      <td>f4b6c6e40b3f1d5e1fd0a57db83220c8</td>\n",
       "      <td>111674</td>\n",
       "      <td>NaN</td>\n",
       "      <td>NaN</td>\n",
       "      <td>168.131.13.221</td>\n",
       "      <td>0</td>\n",
       "      <td>Wireless802.11</td>\n",
       "      <td>...</td>\n",
       "      <td>도서관별관(백도)</td>\n",
       "      <td>749EAF483576</td>\n",
       "      <td>IdleTimeout</td>\n",
       "      <td>NaN</td>\n",
       "      <td>NaN</td>\n",
       "      <td>168.131.174.45</td>\n",
       "      <td>0</td>\n",
       "      <td>0</td>\n",
       "      <td>NaN</td>\n",
       "      <td>168.131.33.63</td>\n",
       "    </tr>\n",
       "    <tr>\n",
       "      <th>6</th>\n",
       "      <td>40107</td>\n",
       "      <td>80777272</td>\n",
       "      <td>11201100B36216CE425D845E72</td>\n",
       "      <td>aa9529a4ec40b716421470fd9784d2e1</td>\n",
       "      <td>112011</td>\n",
       "      <td>NaN</td>\n",
       "      <td>NaN</td>\n",
       "      <td>168.131.13.221</td>\n",
       "      <td>0</td>\n",
       "      <td>Wireless802.11</td>\n",
       "      <td>...</td>\n",
       "      <td>도서관별관(백도)</td>\n",
       "      <td>00B36216CE42</td>\n",
       "      <td>NASRequest</td>\n",
       "      <td>NaN</td>\n",
       "      <td>NaN</td>\n",
       "      <td>168.131.195.35</td>\n",
       "      <td>0</td>\n",
       "      <td>0</td>\n",
       "      <td>NaN</td>\n",
       "      <td>168.131.33.63</td>\n",
       "    </tr>\n",
       "    <tr>\n",
       "      <th>7</th>\n",
       "      <td>40125</td>\n",
       "      <td>80777291</td>\n",
       "      <td>112525D868C37186D35D844012</td>\n",
       "      <td>0606dc33c387b1c1ee3f77b4666b1657</td>\n",
       "      <td>112525</td>\n",
       "      <td>NaN</td>\n",
       "      <td>NaN</td>\n",
       "      <td>168.131.13.221</td>\n",
       "      <td>0</td>\n",
       "      <td>Wireless802.11</td>\n",
       "      <td>...</td>\n",
       "      <td>도서관별관(백도)</td>\n",
       "      <td>D868C37186D3</td>\n",
       "      <td>IdleTimeout</td>\n",
       "      <td>NaN</td>\n",
       "      <td>NaN</td>\n",
       "      <td>168.131.174.235</td>\n",
       "      <td>0</td>\n",
       "      <td>0</td>\n",
       "      <td>NaN</td>\n",
       "      <td>168.131.33.63</td>\n",
       "    </tr>\n",
       "    <tr>\n",
       "      <th>8</th>\n",
       "      <td>40127</td>\n",
       "      <td>80777293</td>\n",
       "      <td>112525D868C37186D35D844C63</td>\n",
       "      <td>9ee9bf68fd39e10500451bc020bfb03b</td>\n",
       "      <td>112525</td>\n",
       "      <td>NaN</td>\n",
       "      <td>NaN</td>\n",
       "      <td>168.131.13.221</td>\n",
       "      <td>0</td>\n",
       "      <td>Wireless802.11</td>\n",
       "      <td>...</td>\n",
       "      <td>도서관별관(백도)</td>\n",
       "      <td>D868C37186D3</td>\n",
       "      <td>NASRequest</td>\n",
       "      <td>NaN</td>\n",
       "      <td>NaN</td>\n",
       "      <td>168.131.214.33</td>\n",
       "      <td>0</td>\n",
       "      <td>0</td>\n",
       "      <td>NaN</td>\n",
       "      <td>168.131.33.63</td>\n",
       "    </tr>\n",
       "    <tr>\n",
       "      <th>9</th>\n",
       "      <td>40130</td>\n",
       "      <td>80777296</td>\n",
       "      <td>112525D868C37186D35D846C12</td>\n",
       "      <td>0e1e682c3a097effaa202f47cda94490</td>\n",
       "      <td>112525</td>\n",
       "      <td>NaN</td>\n",
       "      <td>NaN</td>\n",
       "      <td>168.131.13.221</td>\n",
       "      <td>0</td>\n",
       "      <td>Wireless802.11</td>\n",
       "      <td>...</td>\n",
       "      <td>도서관별관(백도)</td>\n",
       "      <td>D868C37186D3</td>\n",
       "      <td>IdleTimeout</td>\n",
       "      <td>NaN</td>\n",
       "      <td>NaN</td>\n",
       "      <td>168.131.214.74</td>\n",
       "      <td>0</td>\n",
       "      <td>0</td>\n",
       "      <td>NaN</td>\n",
       "      <td>168.131.33.63</td>\n",
       "    </tr>\n",
       "  </tbody>\n",
       "</table>\n",
       "<p>10 rows × 29 columns</p>\n",
       "</div>"
      ],
      "text/plain": [
       "   Unnamed: 0  jnuradacctid                  acctsessionid  \\\n",
       "0         613      80722939     1628406C4D73D89A445D83A651   \n",
       "1        1573      80738046       0000F8E61A4768475D846AD4   \n",
       "2        3651      80736436  ?좎썝=EC=9D507705EE6C665D8493D6   \n",
       "3       39985      80777247     111552DC56E78CCFC95D8481E8   \n",
       "4       39986      80777248     111552DC56E78CCFC95D8485D1   \n",
       "5       39988      80777250     111674749EAF4835765D843BDC   \n",
       "6       40107      80777272     11201100B36216CE425D845E72   \n",
       "7       40125      80777291     112525D868C37186D35D844012   \n",
       "8       40127      80777293     112525D868C37186D35D844C63   \n",
       "9       40130      80777296     112525D868C37186D35D846C12   \n",
       "\n",
       "                       acctuniqueid username  groupname realm    nasipaddress  \\\n",
       "0  67aaf91717d71e4063b4e6914826b5ea   162840        NaN   NaN  168.131.13.221   \n",
       "1  9a9a10384b73a7479239dcbd1e71dbf8        0        NaN   NaN  168.131.13.221   \n",
       "2  5d2b5d46b025ff651e59399d910c6d39     ?좎썝?        NaN   NaN  168.131.13.221   \n",
       "3  d6bb9e6bcc360f7c3dad2ae73b768742   111552        NaN   NaN  168.131.13.221   \n",
       "4  17767c088e25409e1cffe030ad3f9873   111552        NaN   NaN  168.131.13.221   \n",
       "5  f4b6c6e40b3f1d5e1fd0a57db83220c8   111674        NaN   NaN  168.131.13.221   \n",
       "6  aa9529a4ec40b716421470fd9784d2e1   112011        NaN   NaN  168.131.13.221   \n",
       "7  0606dc33c387b1c1ee3f77b4666b1657   112525        NaN   NaN  168.131.13.221   \n",
       "8  9ee9bf68fd39e10500451bc020bfb03b   112525        NaN   NaN  168.131.13.221   \n",
       "9  0e1e682c3a097effaa202f47cda94490   112525        NaN   NaN  168.131.13.221   \n",
       "\n",
       "   nasportid     nasporttype  ...   location callingstationid  \\\n",
       "0          0  Wireless802.11  ...  도서관별관(백도)     6C4D73D89A44   \n",
       "1          0  Wireless802.11  ...  도서관별관(백도)     F8E61A476847   \n",
       "2          0  Wireless802.11  ...  도서관별관(백도)     507705EE6C66   \n",
       "3          0  Wireless802.11  ...  도서관별관(백도)     DC56E78CCFC9   \n",
       "4          0  Wireless802.11  ...  도서관별관(백도)     DC56E78CCFC9   \n",
       "5          0  Wireless802.11  ...  도서관별관(백도)     749EAF483576   \n",
       "6          0  Wireless802.11  ...  도서관별관(백도)     00B36216CE42   \n",
       "7          0  Wireless802.11  ...  도서관별관(백도)     D868C37186D3   \n",
       "8          0  Wireless802.11  ...  도서관별관(백도)     D868C37186D3   \n",
       "9          0  Wireless802.11  ...  도서관별관(백도)     D868C37186D3   \n",
       "\n",
       "  acctterminatecause  servicetype  framedprotocol  framedipaddress  \\\n",
       "0        IdleTimeout          NaN             NaN   168.131.195.12   \n",
       "1        UserRequest          NaN             NaN   168.131.157.23   \n",
       "2        IdleTimeout          NaN             NaN   168.131.157.86   \n",
       "3        IdleTimeout          NaN             NaN   168.131.214.34   \n",
       "4        IdleTimeout          NaN             NaN   168.131.174.12   \n",
       "5        IdleTimeout          NaN             NaN   168.131.174.45   \n",
       "6         NASRequest          NaN             NaN   168.131.195.35   \n",
       "7        IdleTimeout          NaN             NaN  168.131.174.235   \n",
       "8         NASRequest          NaN             NaN   168.131.214.33   \n",
       "9        IdleTimeout          NaN             NaN   168.131.214.74   \n",
       "\n",
       "   acctstartdelay acctstopdelay xascendsessionsvrkey         server  \n",
       "0               0             0                  NaN  168.131.33.63  \n",
       "1               0             0                  NaN  168.131.33.63  \n",
       "2               0             0                  NaN  168.131.33.63  \n",
       "3               0             0                  NaN  168.131.33.63  \n",
       "4               0             0                  NaN  168.131.33.63  \n",
       "5               0             0                  NaN  168.131.33.63  \n",
       "6               0             0                  NaN  168.131.33.63  \n",
       "7               0             0                  NaN  168.131.33.63  \n",
       "8               0             0                  NaN  168.131.33.63  \n",
       "9               0             0                  NaN  168.131.33.63  \n",
       "\n",
       "[10 rows x 29 columns]"
      ]
     },
     "execution_count": 26,
     "metadata": {},
     "output_type": "execute_result"
    }
   ],
   "source": [
    "ap_data.head(10)"
   ]
  },
  {
   "cell_type": "code",
   "execution_count": 27,
   "metadata": {},
   "outputs": [
    {
     "data": {
      "text/plain": [
       "(5232, 29)"
      ]
     },
     "execution_count": 27,
     "metadata": {},
     "output_type": "execute_result"
    }
   ],
   "source": [
    "ap_data.shape"
   ]
  },
  {
   "cell_type": "code",
   "execution_count": 28,
   "metadata": {},
   "outputs": [
    {
     "ename": "ValueError",
     "evalue": "Length mismatch: Expected axis has 29 elements, new values have 30 elements",
     "output_type": "error",
     "traceback": [
      "\u001b[1;31m---------------------------------------------------------------------------\u001b[0m",
      "\u001b[1;31mValueError\u001b[0m                                Traceback (most recent call last)",
      "\u001b[1;32m<ipython-input-28-ceceb87029dd>\u001b[0m in \u001b[0;36m<module>\u001b[1;34m\u001b[0m\n\u001b[0;32m      6\u001b[0m           \u001b[1;34m\"acctoutputoctets\"\u001b[0m\u001b[1;33m,\u001b[0m\u001b[1;34m\"calledstationid\"\u001b[0m\u001b[1;33m,\u001b[0m\u001b[1;34m\"ap_ip\"\u001b[0m\u001b[1;33m,\u001b[0m\u001b[1;34m\"location\"\u001b[0m\u001b[1;33m,\u001b[0m\u001b[1;34m\"callingstationid\"\u001b[0m\u001b[1;33m,\u001b[0m\u001b[1;34m\"acctterminatecause\"\u001b[0m\u001b[1;33m,\u001b[0m\u001b[1;33m\u001b[0m\u001b[1;33m\u001b[0m\u001b[0m\n\u001b[0;32m      7\u001b[0m           \u001b[1;34m\"service_type\"\u001b[0m\u001b[1;33m,\u001b[0m\u001b[1;34m\"framedprotocol\"\u001b[0m\u001b[1;33m,\u001b[0m\u001b[1;34m\"framedipaddress\"\u001b[0m\u001b[1;33m,\u001b[0m\u001b[1;34m\"acctstartdelay\"\u001b[0m\u001b[1;33m,\u001b[0m\u001b[1;34m\"acctstopdelay\"\u001b[0m\u001b[1;33m,\u001b[0m\u001b[1;33m\u001b[0m\u001b[1;33m\u001b[0m\u001b[0m\n\u001b[1;32m----> 8\u001b[1;33m           \"xascendsessionsvrkey\",\"server\"]\n\u001b[0m",
      "\u001b[1;32m~\\Anaconda3\\envs\\tensorflow\\lib\\site-packages\\pandas\\core\\generic.py\u001b[0m in \u001b[0;36m__setattr__\u001b[1;34m(self, name, value)\u001b[0m\n\u001b[0;32m   5191\u001b[0m         \u001b[1;32mtry\u001b[0m\u001b[1;33m:\u001b[0m\u001b[1;33m\u001b[0m\u001b[1;33m\u001b[0m\u001b[0m\n\u001b[0;32m   5192\u001b[0m             \u001b[0mobject\u001b[0m\u001b[1;33m.\u001b[0m\u001b[0m__getattribute__\u001b[0m\u001b[1;33m(\u001b[0m\u001b[0mself\u001b[0m\u001b[1;33m,\u001b[0m \u001b[0mname\u001b[0m\u001b[1;33m)\u001b[0m\u001b[1;33m\u001b[0m\u001b[1;33m\u001b[0m\u001b[0m\n\u001b[1;32m-> 5193\u001b[1;33m             \u001b[1;32mreturn\u001b[0m \u001b[0mobject\u001b[0m\u001b[1;33m.\u001b[0m\u001b[0m__setattr__\u001b[0m\u001b[1;33m(\u001b[0m\u001b[0mself\u001b[0m\u001b[1;33m,\u001b[0m \u001b[0mname\u001b[0m\u001b[1;33m,\u001b[0m \u001b[0mvalue\u001b[0m\u001b[1;33m)\u001b[0m\u001b[1;33m\u001b[0m\u001b[1;33m\u001b[0m\u001b[0m\n\u001b[0m\u001b[0;32m   5194\u001b[0m         \u001b[1;32mexcept\u001b[0m \u001b[0mAttributeError\u001b[0m\u001b[1;33m:\u001b[0m\u001b[1;33m\u001b[0m\u001b[1;33m\u001b[0m\u001b[0m\n\u001b[0;32m   5195\u001b[0m             \u001b[1;32mpass\u001b[0m\u001b[1;33m\u001b[0m\u001b[1;33m\u001b[0m\u001b[0m\n",
      "\u001b[1;32mpandas\\_libs\\properties.pyx\u001b[0m in \u001b[0;36mpandas._libs.properties.AxisProperty.__set__\u001b[1;34m()\u001b[0m\n",
      "\u001b[1;32m~\\Anaconda3\\envs\\tensorflow\\lib\\site-packages\\pandas\\core\\generic.py\u001b[0m in \u001b[0;36m_set_axis\u001b[1;34m(self, axis, labels)\u001b[0m\n\u001b[0;32m    689\u001b[0m \u001b[1;33m\u001b[0m\u001b[0m\n\u001b[0;32m    690\u001b[0m     \u001b[1;32mdef\u001b[0m \u001b[0m_set_axis\u001b[0m\u001b[1;33m(\u001b[0m\u001b[0mself\u001b[0m\u001b[1;33m,\u001b[0m \u001b[0maxis\u001b[0m\u001b[1;33m,\u001b[0m \u001b[0mlabels\u001b[0m\u001b[1;33m)\u001b[0m\u001b[1;33m:\u001b[0m\u001b[1;33m\u001b[0m\u001b[1;33m\u001b[0m\u001b[0m\n\u001b[1;32m--> 691\u001b[1;33m         \u001b[0mself\u001b[0m\u001b[1;33m.\u001b[0m\u001b[0m_data\u001b[0m\u001b[1;33m.\u001b[0m\u001b[0mset_axis\u001b[0m\u001b[1;33m(\u001b[0m\u001b[0maxis\u001b[0m\u001b[1;33m,\u001b[0m \u001b[0mlabels\u001b[0m\u001b[1;33m)\u001b[0m\u001b[1;33m\u001b[0m\u001b[1;33m\u001b[0m\u001b[0m\n\u001b[0m\u001b[0;32m    692\u001b[0m         \u001b[0mself\u001b[0m\u001b[1;33m.\u001b[0m\u001b[0m_clear_item_cache\u001b[0m\u001b[1;33m(\u001b[0m\u001b[1;33m)\u001b[0m\u001b[1;33m\u001b[0m\u001b[1;33m\u001b[0m\u001b[0m\n\u001b[0;32m    693\u001b[0m \u001b[1;33m\u001b[0m\u001b[0m\n",
      "\u001b[1;32m~\\Anaconda3\\envs\\tensorflow\\lib\\site-packages\\pandas\\core\\internals\\managers.py\u001b[0m in \u001b[0;36mset_axis\u001b[1;34m(self, axis, new_labels)\u001b[0m\n\u001b[0;32m    181\u001b[0m             raise ValueError(\n\u001b[0;32m    182\u001b[0m                 \u001b[1;34m\"Length mismatch: Expected axis has {old} elements, new \"\u001b[0m\u001b[1;33m\u001b[0m\u001b[1;33m\u001b[0m\u001b[0m\n\u001b[1;32m--> 183\u001b[1;33m                 \u001b[1;34m\"values have {new} elements\"\u001b[0m\u001b[1;33m.\u001b[0m\u001b[0mformat\u001b[0m\u001b[1;33m(\u001b[0m\u001b[0mold\u001b[0m\u001b[1;33m=\u001b[0m\u001b[0mold_len\u001b[0m\u001b[1;33m,\u001b[0m \u001b[0mnew\u001b[0m\u001b[1;33m=\u001b[0m\u001b[0mnew_len\u001b[0m\u001b[1;33m)\u001b[0m\u001b[1;33m\u001b[0m\u001b[1;33m\u001b[0m\u001b[0m\n\u001b[0m\u001b[0;32m    184\u001b[0m             )\n\u001b[0;32m    185\u001b[0m \u001b[1;33m\u001b[0m\u001b[0m\n",
      "\u001b[1;31mValueError\u001b[0m: Length mismatch: Expected axis has 29 elements, new values have 30 elements"
     ]
    }
   ],
   "source": [
    "ap_data.columns = [\"index\",\"jnuradacctid\",\"acctsessionid\",\"acctuniqueid\",\"username\",\n",
    "          \"groupname\",\"realm\",\"nasipaddress\",\"nasportid\",\n",
    "          \"nasporttype\",\"acctstarttime\",\n",
    "          \"acctstoptime\",\"acctsessiontime\",\"acctsauthentic\",\n",
    "          \"connectinfo_start\",\"connectinfo_stop\",\"acctinputoctets\",\n",
    "          \"acctoutputoctets\",\"calledstationid\",\"ap_ip\",\"location\",\"callingstationid\",\"acctterminatecause\",\n",
    "          \"service_type\",\"framedprotocol\",\"framedipaddress\",\"acctstartdelay\",\"acctstopdelay\",\n",
    "          \"xascendsessionsvrkey\",\"server\"]"
   ]
  },
  {
   "cell_type": "code",
   "execution_count": null,
   "metadata": {},
   "outputs": [],
   "source": [
    "#사용할 칼럼만 추출\n",
    "ap_data = ap_data[[\"location\",\"username\",\"acctstarttime\",\"acctstoptime\",\"acctsessiontime\",\"calledstationid\",\"ap_ip\",\"callingstationid\"]]"
   ]
  },
  {
   "cell_type": "code",
   "execution_count": null,
   "metadata": {},
   "outputs": [],
   "source": [
    "ap_data.head(3)"
   ]
  },
  {
   "cell_type": "code",
   "execution_count": null,
   "metadata": {},
   "outputs": [],
   "source": [
    "ap_data.isnull().sum()"
   ]
  },
  {
   "cell_type": "code",
   "execution_count": null,
   "metadata": {},
   "outputs": [],
   "source": [
    "#null값을 가진 행 모두 제거\n",
    "ap_data = ap_data.dropna(how = 'any',axis = 0)"
   ]
  },
  {
   "cell_type": "code",
   "execution_count": null,
   "metadata": {},
   "outputs": [],
   "source": [
    "ap_data.isnull().sum()"
   ]
  },
  {
   "cell_type": "code",
   "execution_count": null,
   "metadata": {},
   "outputs": [],
   "source": [
    "ap_data.shape"
   ]
  },
  {
   "cell_type": "code",
   "execution_count": null,
   "metadata": {},
   "outputs": [],
   "source": [
    "ap = ap_data.loc[(ap_data['username']==\"?좎썝?\"),:]"
   ]
  },
  {
   "cell_type": "code",
   "execution_count": null,
   "metadata": {},
   "outputs": [],
   "source": [
    "ap.shape"
   ]
  },
  {
   "cell_type": "code",
   "execution_count": null,
   "metadata": {},
   "outputs": [],
   "source": [
    "ap_data = ap_data.loc[(ap_data['username']!=\"?좎썝?\"),:]"
   ]
  },
  {
   "cell_type": "code",
   "execution_count": null,
   "metadata": {},
   "outputs": [],
   "source": [
    "ap_data.shape"
   ]
  },
  {
   "cell_type": "code",
   "execution_count": null,
   "metadata": {},
   "outputs": [],
   "source": [
    "ap = ap_data.loc[(ap_data['username']==0),:]"
   ]
  },
  {
   "cell_type": "code",
   "execution_count": null,
   "metadata": {},
   "outputs": [],
   "source": [
    "ap.shape"
   ]
  },
  {
   "cell_type": "code",
   "execution_count": null,
   "metadata": {},
   "outputs": [],
   "source": [
    "ap_data = ap_data.loc[(ap_data['username']!=0),:]"
   ]
  },
  {
   "cell_type": "code",
   "execution_count": null,
   "metadata": {},
   "outputs": [],
   "source": [
    "ap_data.shape"
   ]
  },
  {
   "cell_type": "code",
   "execution_count": null,
   "metadata": {},
   "outputs": [],
   "source": [
    "ap_data.head(10)"
   ]
  },
  {
   "cell_type": "code",
   "execution_count": null,
   "metadata": {},
   "outputs": [],
   "source": [
    "ap_data.dtypes"
   ]
  },
  {
   "cell_type": "code",
   "execution_count": null,
   "metadata": {},
   "outputs": [],
   "source": [
    "import datetime\n",
    "import time\n",
    "\n",
    "ap_data['acctstarttime'] = pd.to_datetime(ap_data['acctstarttime'])\n",
    "\n",
    "ap_data['acctstoptime'] = pd.to_datetime(ap_data['acctstoptime'])"
   ]
  },
  {
   "cell_type": "code",
   "execution_count": null,
   "metadata": {},
   "outputs": [],
   "source": [
    "ap_data['acctsessiontime'] = pd.to_datetime(ap_data['acctstoptime'],'%S') - pd.to_datetime(ap_data['acctstarttime'],'%S')"
   ]
  },
  {
   "cell_type": "code",
   "execution_count": null,
   "metadata": {},
   "outputs": [],
   "source": [
    "ap_data.head(10)"
   ]
  },
  {
   "cell_type": "code",
   "execution_count": null,
   "metadata": {},
   "outputs": [],
   "source": [
    "ap_data.dtypes"
   ]
  },
  {
   "cell_type": "code",
   "execution_count": null,
   "metadata": {},
   "outputs": [],
   "source": [
    "ap_data.head(10)"
   ]
  },
  {
   "cell_type": "code",
   "execution_count": null,
   "metadata": {},
   "outputs": [],
   "source": [
    "ap_data['calledstationid'].duplicated()"
   ]
  },
  {
   "cell_type": "code",
   "execution_count": null,
   "metadata": {},
   "outputs": [],
   "source": [
    "ap_data['calledstationid'].value_counts()"
   ]
  },
  {
   "cell_type": "code",
   "execution_count": null,
   "metadata": {
    "scrolled": false
   },
   "outputs": [],
   "source": [
    "ap_data = ap_data.loc[(ap_data['calledstationid']=='34FCB96AF2F0'),:]\n",
    "ap_data.head(10)"
   ]
  },
  {
   "cell_type": "code",
   "execution_count": null,
   "metadata": {},
   "outputs": [],
   "source": [
    "#똑같은 시가내\n",
    "ap_data = ap_data.sort_values(by = 'acctstarttime', ascending = True, inplace = False)"
   ]
  },
  {
   "cell_type": "code",
   "execution_count": null,
   "metadata": {},
   "outputs": [],
   "source": [
    "ap_data.head(50)"
   ]
  },
  {
   "cell_type": "code",
   "execution_count": null,
   "metadata": {},
   "outputs": [],
   "source": [
    "ap_data.tail(50)"
   ]
  },
  {
   "cell_type": "code",
   "execution_count": null,
   "metadata": {},
   "outputs": [],
   "source": [
    "df= ap_data.drop_duplicates(subset=['location','username','acctstarttime','acctstoptime','acctsessiontime','calledstationid','ap_ip','callingstationid'], keep='last')"
   ]
  },
  {
   "cell_type": "code",
   "execution_count": null,
   "metadata": {},
   "outputs": [],
   "source": [
    "df.head(100)"
   ]
  },
  {
   "cell_type": "code",
   "execution_count": null,
   "metadata": {},
   "outputs": [],
   "source": [
    "df['sequence'] = list(range(0,1423))\n",
    "df = df.reset_index(drop=True)"
   ]
  },
  {
   "cell_type": "code",
   "execution_count": null,
   "metadata": {},
   "outputs": [],
   "source": [
    "df.head(5)"
   ]
  },
  {
   "cell_type": "code",
   "execution_count": null,
   "metadata": {},
   "outputs": [],
   "source": [
    "df.shape"
   ]
  },
  {
   "cell_type": "code",
   "execution_count": null,
   "metadata": {},
   "outputs": [],
   "source": [
    "list(df['sequence'])"
   ]
  },
  {
   "cell_type": "code",
   "execution_count": null,
   "metadata": {},
   "outputs": [],
   "source": [
    "buf = list(df['sequence'])\n",
    "buf"
   ]
  },
  {
   "cell_type": "code",
   "execution_count": null,
   "metadata": {},
   "outputs": [],
   "source": [
    "#1시간 단위 데이터프레임 만들기\n",
    "\n",
    "date_data =pd.DataFrame()\n",
    "date_data.loc[:,'date_2024']=pd.Series(pd.date_range(\"2019-9-20\", \"2019-9-25\", freq=\"60T\"))\n",
    "date_data['all_num'] = 0"
   ]
  },
  {
   "cell_type": "code",
   "execution_count": null,
   "metadata": {},
   "outputs": [],
   "source": [
    "date_data.head(5)"
   ]
  },
  {
   "cell_type": "code",
   "execution_count": null,
   "metadata": {},
   "outputs": [],
   "source": [
    "date_data.tail(5)"
   ]
  },
  {
   "cell_type": "code",
   "execution_count": null,
   "metadata": {},
   "outputs": [],
   "source": [
    "# username = []\n",
    "# usagetime = []\n",
    "# sequence = []\n",
    "username.append(df.iat[5,1])\n",
    "usagetime.append(df.iat[6,4])\n",
    "sequence.append(df.iat[7,8])\n"
   ]
  },
  {
   "cell_type": "code",
   "execution_count": null,
   "metadata": {},
   "outputs": [],
   "source": [
    "date_data.shape"
   ]
  },
  {
   "cell_type": "code",
   "execution_count": null,
   "metadata": {},
   "outputs": [],
   "source": [
    "def list_duplicates_of(seq,item):\n",
    "    start_at = -1\n",
    "    locs = []\n",
    "    while True:\n",
    "        try:\n",
    "            loc = seq.index(item,start_at+1)\n",
    "        except ValueError:\n",
    "            break\n",
    "        else:\n",
    "            locs.append(loc)\n",
    "            start_at = loc\n",
    "    return locs"
   ]
  },
  {
   "cell_type": "code",
   "execution_count": null,
   "metadata": {},
   "outputs": [],
   "source": [
    "import sys\n",
    "\n",
    "# newDF = pd.DataFrame()\n",
    "# buf  = []\n",
    "\n",
    "# username = []\n",
    "# usagetime = []\n",
    "# sequence = []\n",
    "\n",
    "for idx, row in date_data.iterrows():\n",
    "    username = []\n",
    "    usagetime = []\n",
    "    sequence = []\n",
    "    print(\"idx :\",date_data.iat[idx,0])\n",
    "    for idx1, row1 in df.iterrows():\n",
    "        timestamp = row1.acctstarttime\n",
    "        print(\"timestamp : \", timestamp)\n",
    "        while(date_data.iat[idx,0] < timestamp) and (timestamp < date_data.iat[idx+1,0]):\n",
    "            print(\"idx1 : \",idx1)\n",
    "            print(df.iat[idx1,1])\n",
    "            print(df.iat[idx1,4])\n",
    "            print(df.iat[idx1,8])\n",
    "            username.append(df.iat[idx1,1])\n",
    "            usagetime.append(df.iat[idx1,4])\n",
    "            sequence.append(df.iat[idx1,8])\n",
    "            \n",
    "        count = len(set(username))\n",
    "        print(\"count: \",count)\n",
    "        remove = set(username)\n",
    "        maxx = 0\n",
    "    \n",
    "#         if len(username) != count:\n",
    "#             for i in range count:\n",
    "#                 index = list_duplicates_of(username,remove[i])\n",
    "#                 for j in range index:\n",
    "#                     if df.iat[j,4] > df.iat[j+1,4]:\n",
    "#                         maxx = df.iat[j,8]\n",
    "#                         else:\n",
    "#                             maxx = df.jat[j+1,4]       \n",
    "            \n",
    "#         df.drop[maxx,0]\n",
    "         "
   ]
  },
  {
   "cell_type": "code",
   "execution_count": null,
   "metadata": {},
   "outputs": [],
   "source": [
    "# import sys\n",
    "\n",
    "# for idx, row in date_data.iterrows(): \n",
    "#     queue = []\n",
    "#     for idx1, row1 in df.iterrows():\n",
    "#         timestamp = row1.START_USING_TIME\n",
    "#         iteration = df.iat[idx1,1]//3600\n",
    "#         temp = 0\n",
    "        \n",
    "#         while(date_data.iat[idx,0] < timestamp) and (timestamp < date_data.iat[idx+1,0]): \n",
    "#             if df.iat[idx1,1] not in queue :\n",
    "#                 date_data.iat[idx+temp,1] = date_data.iat[idx+temp,1] + 1\n",
    "#             else :\n",
    "#                 break\n",
    "#             print(date_data.iat[idx+temp,0])\n",
    "#             print(date_data.iat[idx+temp,1])\n",
    "#             if temp == iteration:\n",
    "#                 break\n",
    "#             temp+=1\n",
    "            "
   ]
  },
  {
   "cell_type": "code",
   "execution_count": null,
   "metadata": {},
   "outputs": [],
   "source": [
    "\n",
    "# import sys\n",
    "\n",
    "# for idx1, row1 in df.iterrows():\n",
    "#     for idx, row in date_data.iterrows(): \n",
    "\n",
    "#         timestamp = row1.START_USING_TIME\n",
    "#         iteration = df.iat[idx1,1]//3600\n",
    "        \n",
    "#         temp=0\n",
    "        \n",
    "#         while(date_data.iat[idx,0] < timestamp) and (timestamp < date_data.iat[idx+1,0]):\n",
    "#             date_data.iat[idx+temp,1] = date_data.iat[idx+temp,1] + 1 \n",
    "#             print(date_data.iat[idx+temp,0])\n",
    "#             print(date_data.iat[idx+temp,1])\n",
    "#             if temp == iteration:\n",
    "#                 break\n",
    "#             temp+=1\n",
    "            \n",
    "     "
   ]
  },
  {
   "cell_type": "code",
   "execution_count": null,
   "metadata": {},
   "outputs": [],
   "source": [
    "\n",
    "# index = []\n",
    "# username = []\n",
    "# callingstationid = []\n",
    "# starttime = []\n",
    "# usagetime = []\n",
    "\n",
    "#             index.append(df.iat[idx1,8])\n",
    "#             starttime.append(df.iat[idx1,2])\n",
    "#             usagetime.append(df.iat[idx1,4])\n",
    "            \n",
    "    \n",
    "    \n",
    "            #queue.append(row1.iat[idx,1])\n",
    "#             date_data.iat[idx+temp,1] = date_data.iat[idx+temp,1] + 1 \n",
    "#             print(date_data.iat[idx+temp,0])\n",
    "#             print(date_data.iat[idx+temp,1])\n",
    "#             if temp == iteration:\n",
    "#                 break\n",
    "#             temp+=1\n",
    "   "
   ]
  },
  {
   "cell_type": "code",
   "execution_count": null,
   "metadata": {},
   "outputs": [],
   "source": []
  },
  {
   "cell_type": "code",
   "execution_count": null,
   "metadata": {},
   "outputs": [],
   "source": []
  },
  {
   "cell_type": "code",
   "execution_count": null,
   "metadata": {},
   "outputs": [],
   "source": []
  },
  {
   "cell_type": "code",
   "execution_count": null,
   "metadata": {},
   "outputs": [],
   "source": [
    "# 큐 구현\n",
    "# 큐도 몇 개를 저장할 건지 정해야됨\n",
    "\n",
    "class Queue:\n",
    "    def __init__(self):\n",
    "        self.queue = []\n",
    " \n",
    "    def push(self, num):\n",
    "        self.queue.append(num)\n",
    " \n",
    "    def pop(self):\n",
    "        return self.queue.pop(0) if len(self.queue) != 0 else -1\n",
    " \n",
    "    def size(self):\n",
    "        return len(self.queue)\n",
    " \n",
    "    def empty(self):\n",
    "        return 1 if self.size() == 0 else 0\n",
    " \n",
    "    def front(self):\n",
    "        return self.queue[0] if self.size() != 0 else -1\n",
    " \n",
    "    def back(self):\n",
    "        return self.queue[-1] if self.size() != 0 else -1\n",
    " \n",
    "#몇개의 숫자를 받을건지\n",
    "num = 10\n",
    "queue = Queue()\n",
    "for _ in range(num):\n",
    "    tokens = input().split()\n",
    " \n",
    "    if tokens[0] == \"push\":\n",
    "        queue.push(tokens[1])\n",
    "    elif tokens[0] == \"pop\":\n",
    "        print(queue.pop())\n",
    "    elif tokens[0] == \"size\":\n",
    "        print(queue.size())\n",
    "    elif tokens[0] == \"empty\":\n",
    "        print(queue.empty())\n",
    "    elif tokens[0] == \"front\":\n",
    "        print(queue.front())\n",
    "    elif tokens[0] == \"back\":\n",
    "        print(queue.back())\n",
    "    else:\n",
    "        print(\"it's not acceptable operator\")"
   ]
  },
  {
   "cell_type": "code",
   "execution_count": null,
   "metadata": {},
   "outputs": [],
   "source": []
  },
  {
   "cell_type": "code",
   "execution_count": null,
   "metadata": {},
   "outputs": [],
   "source": []
  },
  {
   "cell_type": "code",
   "execution_count": null,
   "metadata": {},
   "outputs": [],
   "source": []
  },
  {
   "cell_type": "code",
   "execution_count": null,
   "metadata": {},
   "outputs": [],
   "source": []
  },
  {
   "cell_type": "code",
   "execution_count": null,
   "metadata": {},
   "outputs": [],
   "source": []
  },
  {
   "cell_type": "code",
   "execution_count": null,
   "metadata": {},
   "outputs": [],
   "source": []
  },
  {
   "cell_type": "code",
   "execution_count": null,
   "metadata": {},
   "outputs": [],
   "source": []
  },
  {
   "cell_type": "code",
   "execution_count": null,
   "metadata": {},
   "outputs": [],
   "source": []
  },
  {
   "cell_type": "code",
   "execution_count": null,
   "metadata": {},
   "outputs": [],
   "source": []
  },
  {
   "cell_type": "code",
   "execution_count": null,
   "metadata": {},
   "outputs": [],
   "source": []
  },
  {
   "cell_type": "code",
   "execution_count": null,
   "metadata": {},
   "outputs": [],
   "source": []
  },
  {
   "cell_type": "code",
   "execution_count": null,
   "metadata": {},
   "outputs": [],
   "source": []
  },
  {
   "cell_type": "code",
   "execution_count": null,
   "metadata": {},
   "outputs": [],
   "source": []
  },
  {
   "cell_type": "code",
   "execution_count": null,
   "metadata": {},
   "outputs": [],
   "source": []
  },
  {
   "cell_type": "code",
   "execution_count": null,
   "metadata": {},
   "outputs": [],
   "source": []
  },
  {
   "cell_type": "code",
   "execution_count": null,
   "metadata": {},
   "outputs": [],
   "source": []
  },
  {
   "cell_type": "code",
   "execution_count": null,
   "metadata": {},
   "outputs": [],
   "source": []
  },
  {
   "cell_type": "code",
   "execution_count": null,
   "metadata": {},
   "outputs": [],
   "source": []
  },
  {
   "cell_type": "code",
   "execution_count": null,
   "metadata": {},
   "outputs": [],
   "source": []
  },
  {
   "cell_type": "code",
   "execution_count": null,
   "metadata": {},
   "outputs": [],
   "source": []
  },
  {
   "cell_type": "code",
   "execution_count": null,
   "metadata": {},
   "outputs": [],
   "source": []
  },
  {
   "cell_type": "code",
   "execution_count": null,
   "metadata": {},
   "outputs": [],
   "source": []
  },
  {
   "cell_type": "code",
   "execution_count": null,
   "metadata": {},
   "outputs": [],
   "source": []
  },
  {
   "cell_type": "code",
   "execution_count": null,
   "metadata": {},
   "outputs": [],
   "source": []
  },
  {
   "cell_type": "code",
   "execution_count": null,
   "metadata": {},
   "outputs": [],
   "source": []
  },
  {
   "cell_type": "code",
   "execution_count": null,
   "metadata": {},
   "outputs": [],
   "source": []
  },
  {
   "cell_type": "code",
   "execution_count": null,
   "metadata": {},
   "outputs": [],
   "source": []
  },
  {
   "cell_type": "code",
   "execution_count": null,
   "metadata": {},
   "outputs": [],
   "source": []
  },
  {
   "cell_type": "code",
   "execution_count": null,
   "metadata": {},
   "outputs": [],
   "source": []
  },
  {
   "cell_type": "code",
   "execution_count": null,
   "metadata": {},
   "outputs": [],
   "source": []
  },
  {
   "cell_type": "code",
   "execution_count": null,
   "metadata": {},
   "outputs": [],
   "source": []
  },
  {
   "cell_type": "code",
   "execution_count": null,
   "metadata": {},
   "outputs": [],
   "source": []
  },
  {
   "cell_type": "code",
   "execution_count": null,
   "metadata": {},
   "outputs": [],
   "source": []
  },
  {
   "cell_type": "code",
   "execution_count": null,
   "metadata": {},
   "outputs": [],
   "source": []
  },
  {
   "cell_type": "code",
   "execution_count": null,
   "metadata": {},
   "outputs": [],
   "source": []
  },
  {
   "cell_type": "code",
   "execution_count": null,
   "metadata": {},
   "outputs": [],
   "source": []
  },
  {
   "cell_type": "code",
   "execution_count": null,
   "metadata": {},
   "outputs": [],
   "source": []
  },
  {
   "cell_type": "code",
   "execution_count": null,
   "metadata": {},
   "outputs": [],
   "source": []
  },
  {
   "cell_type": "code",
   "execution_count": null,
   "metadata": {},
   "outputs": [],
   "source": []
  },
  {
   "cell_type": "code",
   "execution_count": null,
   "metadata": {},
   "outputs": [],
   "source": []
  },
  {
   "cell_type": "code",
   "execution_count": null,
   "metadata": {},
   "outputs": [],
   "source": []
  },
  {
   "cell_type": "code",
   "execution_count": null,
   "metadata": {},
   "outputs": [],
   "source": []
  },
  {
   "cell_type": "code",
   "execution_count": null,
   "metadata": {},
   "outputs": [],
   "source": []
  },
  {
   "cell_type": "code",
   "execution_count": null,
   "metadata": {},
   "outputs": [],
   "source": []
  },
  {
   "cell_type": "code",
   "execution_count": null,
   "metadata": {},
   "outputs": [],
   "source": []
  },
  {
   "cell_type": "code",
   "execution_count": null,
   "metadata": {},
   "outputs": [],
   "source": []
  },
  {
   "cell_type": "code",
   "execution_count": null,
   "metadata": {},
   "outputs": [],
   "source": []
  }
 ],
 "metadata": {
  "kernelspec": {
   "display_name": "tensorflow",
   "language": "python",
   "name": "tensorflow"
  },
  "language_info": {
   "codemirror_mode": {
    "name": "ipython",
    "version": 3
   },
   "file_extension": ".py",
   "mimetype": "text/x-python",
   "name": "python",
   "nbconvert_exporter": "python",
   "pygments_lexer": "ipython3",
   "version": "3.6.7"
  }
 },
 "nbformat": 4,
 "nbformat_minor": 2
}
