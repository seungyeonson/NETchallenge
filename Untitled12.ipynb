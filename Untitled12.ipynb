{
 "cells": [
  {
   "cell_type": "code",
   "execution_count": 87,
   "metadata": {},
   "outputs": [],
   "source": [
    "import pandas as pd\n",
    "import numpy as np"
   ]
  },
  {
   "cell_type": "code",
   "execution_count": 88,
   "metadata": {},
   "outputs": [],
   "source": [
    "radius_account = pd.read_excel('jnu_radius_account_03-06.xlsx')\n",
    "radius_account.isnull().sum()\n",
    "radius_account = radius_account.dropna(axis = 1)"
   ]
  },
  {
   "cell_type": "code",
   "execution_count": 89,
   "metadata": {},
   "outputs": [],
   "source": [
    "radius_account = radius_account.loc[(pd.DatetimeIndex(radius_account['acctstarttime']).month==6)&(radius_account['nasipaddress']=='14.48.180.191'),:]\n",
    "radius_account.head(-1)\n",
    "\n",
    "radius_account.to_excel('acc6월_191.xlsx',sheet_name='Sheet1')\n"
   ]
  },
  {
   "cell_type": "code",
   "execution_count": 106,
   "metadata": {},
   "outputs": [],
   "source": [
    "import pandas as pd\n",
    "import numpy as np"
   ]
  },
  {
   "cell_type": "code",
   "execution_count": 107,
   "metadata": {},
   "outputs": [],
   "source": [
    "\n",
    "# 공기질 데이터 5분마다 나눠져 \n",
    "\n",
    "air_df3 = pd.read_excel(r'C:\\Users\\user\\air_status\\air3.xls' )\n",
    "air_df4 = pd.read_excel(r'C:\\Users\\user\\air_status\\air4.xls' )\n",
    "air_df5 = pd.read_excel(r'C:\\Users\\user\\air_status\\air5.xls' )\n",
    "air_df6 = pd.read_excel(r'C:\\Users\\user\\air_status\\air6.xls' )\n"
   ]
  },
  {
   "cell_type": "code",
   "execution_count": 117,
   "metadata": {},
   "outputs": [
    {
     "name": "stderr",
     "output_type": "stream",
     "text": [
      "C:\\Users\\user\\Anaconda3\\lib\\site-packages\\ipykernel_launcher.py:4: FutureWarning: how in .resample() is deprecated\n",
      "the new syntax is .resample(...)..apply(<func>)\n",
      "  after removing the cwd from sys.path.\n"
     ]
    },
    {
     "data": {
      "text/html": [
       "<div>\n",
       "<style scoped>\n",
       "    .dataframe tbody tr th:only-of-type {\n",
       "        vertical-align: middle;\n",
       "    }\n",
       "\n",
       "    .dataframe tbody tr th {\n",
       "        vertical-align: top;\n",
       "    }\n",
       "\n",
       "    .dataframe thead th {\n",
       "        text-align: right;\n",
       "    }\n",
       "</style>\n",
       "<table border=\"1\" class=\"dataframe\">\n",
       "  <thead>\n",
       "    <tr style=\"text-align: right;\">\n",
       "      <th></th>\n",
       "      <th>all_num</th>\n",
       "    </tr>\n",
       "  </thead>\n",
       "  <tbody>\n",
       "    <tr>\n",
       "      <th>count</th>\n",
       "      <td>1474.000000</td>\n",
       "    </tr>\n",
       "    <tr>\n",
       "      <th>mean</th>\n",
       "      <td>1.917910</td>\n",
       "    </tr>\n",
       "    <tr>\n",
       "      <th>std</th>\n",
       "      <td>3.339885</td>\n",
       "    </tr>\n",
       "    <tr>\n",
       "      <th>min</th>\n",
       "      <td>0.000000</td>\n",
       "    </tr>\n",
       "    <tr>\n",
       "      <th>25%</th>\n",
       "      <td>0.000000</td>\n",
       "    </tr>\n",
       "    <tr>\n",
       "      <th>50%</th>\n",
       "      <td>0.000000</td>\n",
       "    </tr>\n",
       "    <tr>\n",
       "      <th>75%</th>\n",
       "      <td>3.000000</td>\n",
       "    </tr>\n",
       "    <tr>\n",
       "      <th>max</th>\n",
       "      <td>31.000000</td>\n",
       "    </tr>\n",
       "  </tbody>\n",
       "</table>\n",
       "</div>"
      ],
      "text/plain": [
       "           all_num\n",
       "count  1474.000000\n",
       "mean      1.917910\n",
       "std       3.339885\n",
       "min       0.000000\n",
       "25%       0.000000\n",
       "50%       0.000000\n",
       "75%       3.000000\n",
       "max      31.000000"
      ]
     },
     "execution_count": 117,
     "metadata": {},
     "output_type": "execute_result"
    }
   ],
   "source": [
    "radius_account_df = pd.read_excel('acc3월_190.xlsx')\n",
    "radius_account_df['all_num'] = 1\n",
    "radius_account_df.set_index(radius_account_df['acctstarttime'], inplace=True)\n",
    "radius_account_df = radius_account_df.resample('30T', how={'all_num':np.sum}).fillna(0)\n",
    "\n",
    "radius_account_df.describe()\n",
    "\n",
    "#radius_account_df.head(-1)\n",
    "\n",
    "# #189\n",
    "#\n",
    "# #190\n",
    "# air_df = air_df3[['시간','도서관(이산화탄소)','도서관(온도 ℃)','도서관(습도 %)']]\n",
    "\n",
    "# #191\n",
    "# air_df = air_df3[['시간','자연대(이산화탄소)','자연대(온도 ℃)','자연대(습도 %)']]\n",
    "\n",
    "# #189\n",
    "# air_df = air_df[['시간','여수캠퍼스(이산화탄소)','여수캠퍼스(온도 ℃)','여수캠퍼스(습도 %)']]\n",
    "# air_df['시간'] = pd.to_datetime(air_df['시간']) \n",
    "# air_df.set_index(air_df['시간'], inplace=True)\n",
    "# air_df = air_df.resample('30T', how={'여수캠퍼스(이산화탄소)':np.average,'여수캠퍼스(온도 ℃)':np.average, '여수캠퍼스(습도 %)':np.average}).fillna(0)\n",
    "\n",
    "# #190\n",
    "# air_df = air_df[['시간','도서관(이산화탄소)','도서관(온도 ℃)','도서관(습도 %)']]\n",
    "# air_df['시간'] = pd.to_datetime(air_df['시간']) \n",
    "# air_df.set_index(air_df['시간'], inplace=True)\n",
    "# air_df = air_df.resample('30T', how={'도서관(이산화탄소)':np.average,'도서관(온도 ℃)':np.average, '도서관(습도 %)':np.average}).fillna(0)\n",
    "\n",
    "# #191\n",
    "# air_df = air_df[['시간','자연대(이산화탄소)','자연대(온도 ℃)','자연대(습도 %)']]\n",
    "# air_df['시간'] = pd.to_datetime(air_df['시간']) \n",
    "# air_df.set_index(air_df['시간'], inplace=True)\n",
    "# air_df = air_df.resample('30T', how={'자연대(이산화탄소)':np.average,'자연대(온도 ℃)':np.average, '자연대(습도 %)':np.average}).fillna(0)\n",
    "\n",
    "#air_df.head(-1)\n",
    "\n",
    "# air_df 행 수 :5855개\n",
    "\n",
    "# air_result = air_df[0:25,:]\n",
    "\n",
    "#air_result.head()\n",
    "\n",
    "# result = pd.concat([radius_account_df,air_df], axis=1)\n",
    "# result = result.dropna()\n",
    "# result.head(-1)\n"
   ]
  },
  {
   "cell_type": "code",
   "execution_count": null,
   "metadata": {},
   "outputs": [],
   "source": [
    "import openpyxl\n",
    "ap = openpyxl.load_workbook"
   ]
  },
  {
   "cell_type": "code",
   "execution_count": 1,
   "metadata": {},
   "outputs": [],
   "source": [
    "import pandas as pd\n",
    "import numpy as np\n",
    "import datetime"
   ]
  },
  {
   "cell_type": "code",
   "execution_count": 2,
   "metadata": {},
   "outputs": [
    {
     "name": "stderr",
     "output_type": "stream",
     "text": [
      "C:\\Users\\user\\Anaconda3\\lib\\site-packages\\ipykernel_launcher.py:20: SettingWithCopyWarning: \n",
      "A value is trying to be set on a copy of a slice from a DataFrame.\n",
      "Try using .loc[row_indexer,col_indexer] = value instead\n",
      "\n",
      "See the caveats in the documentation: http://pandas.pydata.org/pandas-docs/stable/indexing.html#indexing-view-versus-copy\n",
      "C:\\Users\\user\\Anaconda3\\lib\\site-packages\\ipykernel_launcher.py:24: FutureWarning: how in .resample() is deprecated\n",
      "the new syntax is .resample(...)..apply(<func>)\n",
      "C:\\Users\\user\\Anaconda3\\lib\\site-packages\\ipykernel_launcher.py:34: SettingWithCopyWarning: \n",
      "A value is trying to be set on a copy of a slice from a DataFrame.\n",
      "Try using .loc[row_indexer,col_indexer] = value instead\n",
      "\n",
      "See the caveats in the documentation: http://pandas.pydata.org/pandas-docs/stable/indexing.html#indexing-view-versus-copy\n",
      "C:\\Users\\user\\Anaconda3\\lib\\site-packages\\ipykernel_launcher.py:38: FutureWarning: how in .resample() is deprecated\n",
      "the new syntax is .resample(...)..apply(<func>)\n"
     ]
    }
   ],
   "source": [
    "\n",
    "air_df5 = pd.read_excel(r'C:\\Users\\user\\넷첼린지\\air_status\\air5.xls' )\n",
    "\n",
    "air_df6 = pd.read_excel(r'C:\\Users\\user\\넷첼린지\\air_status\\air6.xls' )\n",
    "\n",
    "# air_df = pd.concat([air_df3,air_df4,air_df5,air_df6] , axis=0)\n",
    "# air_df.head(-1)\n",
    "\n",
    "# air_df = air_df3.append(air_df4)\n",
    "# air_df = air_df.append(air_df5)\n",
    "# air_df = air_df.append(air_df6)\n",
    "\n",
    "#필요한 열만 추출\n",
    "\n",
    "# 기초과학특성회관\n",
    "air_df1 = air_df5[['시간','자연대(이산화탄소)','자연대(온도 ℃)','자연대(습도 %)']]\n",
    "\n",
    "#air_df1['all_num'] = 0\n",
    "\n",
    "air_df1['시간'] = pd.to_datetime(air_df1['시간']) \n",
    "\n",
    "air_df1.set_index(air_df1['시간'], inplace=True)\n",
    "\n",
    "air_df1 = air_df1.resample('15T', how={'자연대(이산화탄소)':np.average,'자연대(온도 ℃)':np.average, '자연대(습도 %)':np.average}).fillna(0)\n",
    "\n",
    "#air_df1.head(-1)\n",
    "\n",
    "#air_df1.to_excel('air5_기초특성.xlsx',sheet_name='Sheet1')\n",
    "\n",
    "\n",
    "#명학회관\n",
    "air_df2 = air_df5[['시간','도서관(이산화탄소)','도서관(온도 ℃)','도서관(습도 %)']]\n",
    "\n",
    "air_df2['시간'] = pd.to_datetime(air_df2['시간']) \n",
    "\n",
    "air_df2.set_index(air_df2['시간'], inplace=True)\n",
    "\n",
    "air_df2 = air_df2.resample('15T', how={'도서관(이산화탄소)':np.average,'도서관(온도 ℃)':np.average, '도서관(습도 %)':np.average}).fillna(0)\n",
    "\n",
    "#air_df2['all_num'] = 0\n",
    "\n",
    "#air_df2.head(-1)\n",
    "\n",
    "#air_df2.to_excel('air5_명학회관.xlsx',sheet_name='Sheet1')\n",
    "\n",
    "\n",
    "#air_df.head(-1)\n",
    "\n",
    "# air_df 행 수 :5855개\n",
    "\n",
    "# air_result = air_df[0:,:]\n",
    "\n",
    "#air_result.head()\n",
    "\n",
    "# result = pd.concat([radius_account_df,air_df], axis=1)\n",
    "# result = result.dropna()\n"
   ]
  },
  {
   "cell_type": "code",
   "execution_count": null,
   "metadata": {},
   "outputs": [],
   "source": []
  },
  {
   "cell_type": "code",
   "execution_count": null,
   "metadata": {},
   "outputs": [],
   "source": [
    "\n",
    "\n",
    "# #자연대\n",
    "\n",
    "# radius_account = radius_account.loc[(radius_account['ap_ip']=='14.48.182.42')|(radius_account['ap_ip']=='14.48.182.43')|\n",
    "# (radius_account['ap_ip']=='14.48.182.44')|(radius_account['ap_ip']=='14.48.182.52')|\n",
    "# (radius_account['ap_ip']=='14.48.182.45')|(radius_account['ap_ip']=='14.48.182.53')|\n",
    "# (radius_account['ap_ip']=='14.48.182.46')|(radius_account['ap_ip']=='14.48.182.54')|\n",
    "# (radius_account['ap_ip']=='14.48.182.47')|(radius_account['ap_ip']=='14.48.182.55')|\n",
    "# (radius_account['ap_ip']=='14.48.182.48')|(radius_account['ap_ip']=='14.48.182.56')|\n",
    "# (radius_account['ap_ip']=='14.48.182.49')|(radius_account['ap_ip']=='14.48.182.57')|\n",
    "# (radius_account['ap_ip']=='14.48.182.50')|(radius_account['ap_ip']=='14.48.182.51'),:]\n",
    "\n",
    "\n",
    "# radius_account['all_num'] = 1\n",
    "\n",
    "# radius_account.set_index(radius_account['사용시작시각'], inplace=True)\n",
    "\n",
    "# radius_account_df = radius_account.resample('30T', how={'all_num':np.sum}).fillna(0)\n",
    "\n",
    "# #radius_account_df.head(-1)\n",
    "# # 자연대 행 수 : 5802\n"
   ]
  }
 ],
 "metadata": {
  "kernelspec": {
   "display_name": "Python 3",
   "language": "python",
   "name": "python3"
  },
  "language_info": {
   "codemirror_mode": {
    "name": "ipython",
    "version": 3
   },
   "file_extension": ".py",
   "mimetype": "text/x-python",
   "name": "python",
   "nbconvert_exporter": "python",
   "pygments_lexer": "ipython3",
   "version": "3.6.8"
  }
 },
 "nbformat": 4,
 "nbformat_minor": 2
}
