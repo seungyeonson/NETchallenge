{
 "cells": [
  {
   "cell_type": "code",
   "execution_count": 2,
   "metadata": {},
   "outputs": [],
   "source": [
    "import pandas as pd\n",
    "import numpy as np"
   ]
  },
  {
   "cell_type": "code",
   "execution_count": 3,
   "metadata": {},
   "outputs": [
    {
     "data": {
      "text/html": [
       "<div>\n",
       "<style scoped>\n",
       "    .dataframe tbody tr th:only-of-type {\n",
       "        vertical-align: middle;\n",
       "    }\n",
       "\n",
       "    .dataframe tbody tr th {\n",
       "        vertical-align: top;\n",
       "    }\n",
       "\n",
       "    .dataframe thead th {\n",
       "        text-align: right;\n",
       "    }\n",
       "</style>\n",
       "<table border=\"1\" class=\"dataframe\">\n",
       "  <thead>\n",
       "    <tr style=\"text-align: right;\">\n",
       "      <th></th>\n",
       "      <th>USER_TYPE</th>\n",
       "      <th>AP IP주소</th>\n",
       "      <th>AP가 설치된 건물-층</th>\n",
       "      <th>위도,경도</th>\n",
       "      <th>AP_TYPE</th>\n",
       "      <th>START_USING_TIME</th>\n",
       "      <th>END_USING_TIME</th>\n",
       "      <th>USAGE_TIME(second)</th>\n",
       "      <th>AP_MAC -SHA256해쉬값전환</th>\n",
       "      <th>사용자단말 MAC-SHA256해쉬값전환</th>\n",
       "    </tr>\n",
       "  </thead>\n",
       "  <tbody>\n",
       "    <tr>\n",
       "      <th>0</th>\n",
       "      <td>학생</td>\n",
       "      <td>168.131***</td>\n",
       "      <td>기초특성화과학관-7층</td>\n",
       "      <td>35.175860, 126.911051</td>\n",
       "      <td>전남대AP</td>\n",
       "      <td>2019-05-01 00:21:43</td>\n",
       "      <td>2019-05-01 01:06:38</td>\n",
       "      <td>2693</td>\n",
       "      <td>qqGqT</td>\n",
       "      <td>1V/2G</td>\n",
       "    </tr>\n",
       "    <tr>\n",
       "      <th>1</th>\n",
       "      <td>학생</td>\n",
       "      <td>168.131***</td>\n",
       "      <td>기초특성화과학관-1층</td>\n",
       "      <td>35.175860, 126.911051</td>\n",
       "      <td>전남대AP</td>\n",
       "      <td>2019-05-01 00:28:32</td>\n",
       "      <td>2019-05-01 00:29:06</td>\n",
       "      <td>34</td>\n",
       "      <td>9REc7</td>\n",
       "      <td>iA07F</td>\n",
       "    </tr>\n",
       "    <tr>\n",
       "      <th>2</th>\n",
       "      <td>학생</td>\n",
       "      <td>14.48.1***</td>\n",
       "      <td>명학회관-4층</td>\n",
       "      <td>35.141651, 126.923151</td>\n",
       "      <td>통신사AP</td>\n",
       "      <td>2019-05-01 01:09:34</td>\n",
       "      <td>2019-05-01 01:12:17</td>\n",
       "      <td>162</td>\n",
       "      <td>LbvpW</td>\n",
       "      <td>MJj9o</td>\n",
       "    </tr>\n",
       "  </tbody>\n",
       "</table>\n",
       "</div>"
      ],
      "text/plain": [
       "  USER_TYPE     AP IP주소 AP가 설치된 건물-층                  위도,경도 AP_TYPE  \\\n",
       "0        학생  168.131***  기초특성화과학관-7층  35.175860, 126.911051   전남대AP   \n",
       "1        학생  168.131***  기초특성화과학관-1층  35.175860, 126.911051   전남대AP   \n",
       "2        학생  14.48.1***      명학회관-4층  35.141651, 126.923151   통신사AP   \n",
       "\n",
       "     START_USING_TIME      END_USING_TIME  USAGE_TIME(second)  \\\n",
       "0 2019-05-01 00:21:43 2019-05-01 01:06:38                2693   \n",
       "1 2019-05-01 00:28:32 2019-05-01 00:29:06                  34   \n",
       "2 2019-05-01 01:09:34 2019-05-01 01:12:17                 162   \n",
       "\n",
       "  AP_MAC -SHA256해쉬값전환 사용자단말 MAC-SHA256해쉬값전환  \n",
       "0               qqGqT                 1V/2G  \n",
       "1               9REc7                 iA07F  \n",
       "2               LbvpW                 MJj9o  "
      ]
     },
     "execution_count": 3,
     "metadata": {},
     "output_type": "execute_result"
    }
   ],
   "source": [
    "ap_data = pd.read_excel('ap.xlsx',sheet_name = 'AP사용정보')\n",
    "ap_data.head(3)"
   ]
  },
  {
   "cell_type": "code",
   "execution_count": 6,
   "metadata": {},
   "outputs": [
    {
     "data": {
      "text/html": [
       "<div>\n",
       "<style scoped>\n",
       "    .dataframe tbody tr th:only-of-type {\n",
       "        vertical-align: middle;\n",
       "    }\n",
       "\n",
       "    .dataframe tbody tr th {\n",
       "        vertical-align: top;\n",
       "    }\n",
       "\n",
       "    .dataframe thead th {\n",
       "        text-align: right;\n",
       "    }\n",
       "</style>\n",
       "<table border=\"1\" class=\"dataframe\">\n",
       "  <thead>\n",
       "    <tr style=\"text-align: right;\">\n",
       "      <th></th>\n",
       "      <th>USER_TYPE</th>\n",
       "      <th>AP IP주소</th>\n",
       "      <th>AP가 설치된 건물-층</th>\n",
       "      <th>위도,경도</th>\n",
       "      <th>AP_TYPE</th>\n",
       "      <th>START_USING_TIME</th>\n",
       "      <th>END_USING_TIME</th>\n",
       "      <th>USAGE_TIME(second)</th>\n",
       "      <th>AP_MAC -SHA256해쉬값전환</th>\n",
       "      <th>사용자단말 MAC-SHA256해쉬값전환</th>\n",
       "    </tr>\n",
       "  </thead>\n",
       "  <tbody>\n",
       "    <tr>\n",
       "      <th>2</th>\n",
       "      <td>학생</td>\n",
       "      <td>14.48.1***</td>\n",
       "      <td>명학회관-4층</td>\n",
       "      <td>35.141651, 126.923151</td>\n",
       "      <td>통신사AP</td>\n",
       "      <td>2019-05-01 01:09:34</td>\n",
       "      <td>2019-05-01 01:12:17</td>\n",
       "      <td>162</td>\n",
       "      <td>LbvpW</td>\n",
       "      <td>MJj9o</td>\n",
       "    </tr>\n",
       "    <tr>\n",
       "      <th>3</th>\n",
       "      <td>학생</td>\n",
       "      <td>14.48.1***</td>\n",
       "      <td>명학회관-4층</td>\n",
       "      <td>35.141651, 126.923151</td>\n",
       "      <td>통신사AP</td>\n",
       "      <td>2019-05-01 01:17:53</td>\n",
       "      <td>2019-05-01 04:34:40</td>\n",
       "      <td>11807</td>\n",
       "      <td>zx3M1</td>\n",
       "      <td>WrRdn</td>\n",
       "    </tr>\n",
       "    <tr>\n",
       "      <th>5</th>\n",
       "      <td>학생</td>\n",
       "      <td>14.48.1***</td>\n",
       "      <td>명학회관-4층</td>\n",
       "      <td>35.141651, 126.923151</td>\n",
       "      <td>통신사AP</td>\n",
       "      <td>2019-05-01 02:56:39</td>\n",
       "      <td>2019-05-01 02:57:05</td>\n",
       "      <td>25</td>\n",
       "      <td>zx3M1</td>\n",
       "      <td>MJj9o</td>\n",
       "    </tr>\n",
       "    <tr>\n",
       "      <th>7</th>\n",
       "      <td>학생</td>\n",
       "      <td>14.48.1***</td>\n",
       "      <td>명학회관-4층</td>\n",
       "      <td>35.141651, 126.923151</td>\n",
       "      <td>통신사AP</td>\n",
       "      <td>2019-05-01 04:16:53</td>\n",
       "      <td>2019-05-01 07:49:18</td>\n",
       "      <td>12745</td>\n",
       "      <td>zx3M1</td>\n",
       "      <td>1ADFm</td>\n",
       "    </tr>\n",
       "    <tr>\n",
       "      <th>9</th>\n",
       "      <td>학생</td>\n",
       "      <td>14.48.1***</td>\n",
       "      <td>명학회관-4층</td>\n",
       "      <td>35.141651, 126.923151</td>\n",
       "      <td>통신사AP</td>\n",
       "      <td>2019-05-01 04:59:25</td>\n",
       "      <td>2019-05-01 08:48:11</td>\n",
       "      <td>13727</td>\n",
       "      <td>zx3M1</td>\n",
       "      <td>WrRdn</td>\n",
       "    </tr>\n",
       "  </tbody>\n",
       "</table>\n",
       "</div>"
      ],
      "text/plain": [
       "  USER_TYPE     AP IP주소 AP가 설치된 건물-층                  위도,경도 AP_TYPE  \\\n",
       "2        학생  14.48.1***      명학회관-4층  35.141651, 126.923151   통신사AP   \n",
       "3        학생  14.48.1***      명학회관-4층  35.141651, 126.923151   통신사AP   \n",
       "5        학생  14.48.1***      명학회관-4층  35.141651, 126.923151   통신사AP   \n",
       "7        학생  14.48.1***      명학회관-4층  35.141651, 126.923151   통신사AP   \n",
       "9        학생  14.48.1***      명학회관-4층  35.141651, 126.923151   통신사AP   \n",
       "\n",
       "     START_USING_TIME      END_USING_TIME  USAGE_TIME(second)  \\\n",
       "2 2019-05-01 01:09:34 2019-05-01 01:12:17                 162   \n",
       "3 2019-05-01 01:17:53 2019-05-01 04:34:40               11807   \n",
       "5 2019-05-01 02:56:39 2019-05-01 02:57:05                  25   \n",
       "7 2019-05-01 04:16:53 2019-05-01 07:49:18               12745   \n",
       "9 2019-05-01 04:59:25 2019-05-01 08:48:11               13727   \n",
       "\n",
       "  AP_MAC -SHA256해쉬값전환 사용자단말 MAC-SHA256해쉬값전환  \n",
       "2               LbvpW                 MJj9o  \n",
       "3               zx3M1                 WrRdn  \n",
       "5               zx3M1                 MJj9o  \n",
       "7               zx3M1                 1ADFm  \n",
       "9               zx3M1                 WrRdn  "
      ]
     },
     "execution_count": 6,
     "metadata": {},
     "output_type": "execute_result"
    }
   ],
   "source": [
    "ap_data = ap_data.loc[(ap_data['AP가 설치된 건물-층']==\"명학회관-4층\")|(ap_data['AP가 설치된 건물-층']==\"명학회관-3층\"),:]\n",
    "ap_data.head(5)"
   ]
  },
  {
   "cell_type": "code",
   "execution_count": 7,
   "metadata": {},
   "outputs": [
    {
     "data": {
      "text/html": [
       "<div>\n",
       "<style scoped>\n",
       "    .dataframe tbody tr th:only-of-type {\n",
       "        vertical-align: middle;\n",
       "    }\n",
       "\n",
       "    .dataframe tbody tr th {\n",
       "        vertical-align: top;\n",
       "    }\n",
       "\n",
       "    .dataframe thead th {\n",
       "        text-align: right;\n",
       "    }\n",
       "</style>\n",
       "<table border=\"1\" class=\"dataframe\">\n",
       "  <thead>\n",
       "    <tr style=\"text-align: right;\">\n",
       "      <th></th>\n",
       "      <th>START_USING_TIME</th>\n",
       "      <th>USAGE_TIME(second)</th>\n",
       "      <th>AP가 설치된 건물-층</th>\n",
       "    </tr>\n",
       "  </thead>\n",
       "  <tbody>\n",
       "    <tr>\n",
       "      <th>2</th>\n",
       "      <td>2019-05-01 01:09:34</td>\n",
       "      <td>162</td>\n",
       "      <td>명학회관-4층</td>\n",
       "    </tr>\n",
       "    <tr>\n",
       "      <th>3</th>\n",
       "      <td>2019-05-01 01:17:53</td>\n",
       "      <td>11807</td>\n",
       "      <td>명학회관-4층</td>\n",
       "    </tr>\n",
       "    <tr>\n",
       "      <th>5</th>\n",
       "      <td>2019-05-01 02:56:39</td>\n",
       "      <td>25</td>\n",
       "      <td>명학회관-4층</td>\n",
       "    </tr>\n",
       "  </tbody>\n",
       "</table>\n",
       "</div>"
      ],
      "text/plain": [
       "     START_USING_TIME  USAGE_TIME(second) AP가 설치된 건물-층\n",
       "2 2019-05-01 01:09:34                 162      명학회관-4층\n",
       "3 2019-05-01 01:17:53               11807      명학회관-4층\n",
       "5 2019-05-01 02:56:39                  25      명학회관-4층"
      ]
     },
     "execution_count": 7,
     "metadata": {},
     "output_type": "execute_result"
    }
   ],
   "source": [
    "ap_table = ap_data[['username','START_USING_TIME','USAGE_TIME(second)','AP가 설치된 건물-층']]\n",
    "ap_table.head(3)"
   ]
  },
  {
   "cell_type": "code",
   "execution_count": 8,
   "metadata": {},
   "outputs": [
    {
     "data": {
      "text/html": [
       "<div>\n",
       "<style scoped>\n",
       "    .dataframe tbody tr th:only-of-type {\n",
       "        vertical-align: middle;\n",
       "    }\n",
       "\n",
       "    .dataframe tbody tr th {\n",
       "        vertical-align: top;\n",
       "    }\n",
       "\n",
       "    .dataframe thead th {\n",
       "        text-align: right;\n",
       "    }\n",
       "</style>\n",
       "<table border=\"1\" class=\"dataframe\">\n",
       "  <thead>\n",
       "    <tr style=\"text-align: right;\">\n",
       "      <th></th>\n",
       "      <th>START_USING_TIME</th>\n",
       "      <th>USAGE_TIME(second)</th>\n",
       "    </tr>\n",
       "  </thead>\n",
       "  <tbody>\n",
       "    <tr>\n",
       "      <th>2</th>\n",
       "      <td>2019-05-01 01:09:34</td>\n",
       "      <td>162</td>\n",
       "    </tr>\n",
       "    <tr>\n",
       "      <th>3</th>\n",
       "      <td>2019-05-01 01:17:53</td>\n",
       "      <td>11807</td>\n",
       "    </tr>\n",
       "    <tr>\n",
       "      <th>5</th>\n",
       "      <td>2019-05-01 02:56:39</td>\n",
       "      <td>25</td>\n",
       "    </tr>\n",
       "  </tbody>\n",
       "</table>\n",
       "</div>"
      ],
      "text/plain": [
       "     START_USING_TIME  USAGE_TIME(second)\n",
       "2 2019-05-01 01:09:34                 162\n",
       "3 2019-05-01 01:17:53               11807\n",
       "5 2019-05-01 02:56:39                  25"
      ]
     },
     "execution_count": 8,
     "metadata": {},
     "output_type": "execute_result"
    }
   ],
   "source": [
    "#.drop(labels = 1)\n",
    "ap_table = ap_table.drop('AP가 설치된 건물-층',1)\n",
    "ap_table.head(3)         "
   ]
  },
  {
   "cell_type": "code",
   "execution_count": 9,
   "metadata": {},
   "outputs": [],
   "source": [
    "data_ap=ap_table.dropna()\n",
    "data_ap=data_ap.reset_index(drop=True)"
   ]
  },
  {
   "cell_type": "code",
   "execution_count": 10,
   "metadata": {},
   "outputs": [
    {
     "data": {
      "text/plain": [
       "(12973, 2)"
      ]
     },
     "execution_count": 10,
     "metadata": {},
     "output_type": "execute_result"
    }
   ],
   "source": [
    "data_ap.shape"
   ]
  },
  {
   "cell_type": "code",
   "execution_count": 11,
   "metadata": {},
   "outputs": [],
   "source": [
    "date_data =pd.DataFrame()\n",
    "date_data.loc[:,'date_5_6']=pd.Series(pd.date_range(\"2019-5-1\", \"2019-7-01\", freq=\"60T\"))\n"
   ]
  },
  {
   "cell_type": "code",
   "execution_count": 13,
   "metadata": {},
   "outputs": [
    {
     "data": {
      "text/html": [
       "<div>\n",
       "<style scoped>\n",
       "    .dataframe tbody tr th:only-of-type {\n",
       "        vertical-align: middle;\n",
       "    }\n",
       "\n",
       "    .dataframe tbody tr th {\n",
       "        vertical-align: top;\n",
       "    }\n",
       "\n",
       "    .dataframe thead th {\n",
       "        text-align: right;\n",
       "    }\n",
       "</style>\n",
       "<table border=\"1\" class=\"dataframe\">\n",
       "  <thead>\n",
       "    <tr style=\"text-align: right;\">\n",
       "      <th></th>\n",
       "      <th>date_5_6</th>\n",
       "      <th>all_num</th>\n",
       "    </tr>\n",
       "  </thead>\n",
       "  <tbody>\n",
       "    <tr>\n",
       "      <th>0</th>\n",
       "      <td>2019-05-01 00:00:00</td>\n",
       "      <td>0</td>\n",
       "    </tr>\n",
       "    <tr>\n",
       "      <th>1</th>\n",
       "      <td>2019-05-01 01:00:00</td>\n",
       "      <td>0</td>\n",
       "    </tr>\n",
       "    <tr>\n",
       "      <th>2</th>\n",
       "      <td>2019-05-01 02:00:00</td>\n",
       "      <td>0</td>\n",
       "    </tr>\n",
       "    <tr>\n",
       "      <th>3</th>\n",
       "      <td>2019-05-01 03:00:00</td>\n",
       "      <td>0</td>\n",
       "    </tr>\n",
       "    <tr>\n",
       "      <th>4</th>\n",
       "      <td>2019-05-01 04:00:00</td>\n",
       "      <td>0</td>\n",
       "    </tr>\n",
       "  </tbody>\n",
       "</table>\n",
       "</div>"
      ],
      "text/plain": [
       "             date_5_6  all_num\n",
       "0 2019-05-01 00:00:00        0\n",
       "1 2019-05-01 01:00:00        0\n",
       "2 2019-05-01 02:00:00        0\n",
       "3 2019-05-01 03:00:00        0\n",
       "4 2019-05-01 04:00:00        0"
      ]
     },
     "execution_count": 13,
     "metadata": {},
     "output_type": "execute_result"
    }
   ],
   "source": [
    "#여기서 00:00:00의 all_num의 의미는 0-5분까지의 사람 숫자로 계산할 것이다.\n",
    "date_data['all_num']=0\n",
    "date_data.head(5)"
   ]
  },
  {
   "cell_type": "code",
   "execution_count": null,
   "metadata": {},
   "outputs": [],
   "source": [
    "# 중복제거 하는 법\n"
   ]
  },
  {
   "cell_type": "code",
   "execution_count": null,
   "metadata": {},
   "outputs": [],
   "source": []
  },
  {
   "cell_type": "code",
   "execution_count": null,
   "metadata": {},
   "outputs": [],
   "source": []
  },
  {
   "cell_type": "code",
   "execution_count": null,
   "metadata": {},
   "outputs": [],
   "source": []
  },
  {
   "cell_type": "code",
   "execution_count": null,
   "metadata": {},
   "outputs": [],
   "source": []
  },
  {
   "cell_type": "code",
   "execution_count": null,
   "metadata": {},
   "outputs": [],
   "source": []
  },
  {
   "cell_type": "code",
   "execution_count": null,
   "metadata": {},
   "outputs": [],
   "source": []
  },
  {
   "cell_type": "code",
   "execution_count": null,
   "metadata": {},
   "outputs": [],
   "source": []
  },
  {
   "cell_type": "code",
   "execution_count": null,
   "metadata": {},
   "outputs": [],
   "source": []
  },
  {
   "cell_type": "code",
   "execution_count": null,
   "metadata": {},
   "outputs": [],
   "source": []
  },
  {
   "cell_type": "code",
   "execution_count": null,
   "metadata": {},
   "outputs": [],
   "source": []
  },
  {
   "cell_type": "code",
   "execution_count": null,
   "metadata": {},
   "outputs": [],
   "source": []
  },
  {
   "cell_type": "code",
   "execution_count": null,
   "metadata": {},
   "outputs": [],
   "source": []
  },
  {
   "cell_type": "code",
   "execution_count": null,
   "metadata": {},
   "outputs": [],
   "source": []
  },
  {
   "cell_type": "code",
   "execution_count": null,
   "metadata": {},
   "outputs": [],
   "source": [
    "\n",
    "import sys\n",
    "\n",
    "for idx1, row1 in data_ap.iterrows():\n",
    "    for idx, row in date_data.iterrows(): \n",
    "\n",
    "        timestamp = row1.START_USING_TIME\n",
    "        iteration = data_ap.iat[idx1,1]//3600\n",
    "        \n",
    "        temp=0\n",
    "        \n",
    "        while(date_data.iat[idx,0] < timestamp) and (timestamp < date_data.iat[idx+1,0]):\n",
    "            date_data.iat[idx+temp,1] = date_data.iat[idx+temp,1] + 1 \n",
    "            print(date_data.iat[idx+temp,0])\n",
    "            print(date_data.iat[idx+temp,1])\n",
    "            if temp == iteration:\n",
    "                break\n",
    "            temp+=1\n",
    "            \n",
    "     "
   ]
  },
  {
   "cell_type": "code",
   "execution_count": null,
   "metadata": {},
   "outputs": [],
   "source": []
  },
  {
   "cell_type": "code",
   "execution_count": null,
   "metadata": {},
   "outputs": [],
   "source": []
  },
  {
   "cell_type": "code",
   "execution_count": null,
   "metadata": {},
   "outputs": [],
   "source": []
  }
 ],
 "metadata": {
  "kernelspec": {
   "display_name": "Python 3",
   "language": "python",
   "name": "python3"
  },
  "language_info": {
   "codemirror_mode": {
    "name": "ipython",
    "version": 3
   },
   "file_extension": ".py",
   "mimetype": "text/x-python",
   "name": "python",
   "nbconvert_exporter": "python",
   "pygments_lexer": "ipython3",
   "version": "3.6.8"
  }
 },
 "nbformat": 4,
 "nbformat_minor": 2
}
