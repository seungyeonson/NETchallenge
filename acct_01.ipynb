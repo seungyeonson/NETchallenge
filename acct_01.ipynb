{
 "cells": [
  {
   "cell_type": "code",
   "execution_count": null,
   "metadata": {},
   "outputs": [],
   "source": [
    "import pandas as pd\n",
    "import numpy as np"
   ]
  },
  {
   "cell_type": "code",
   "execution_count": null,
   "metadata": {},
   "outputs": [],
   "source": [
    "\n",
    "data_ap = pd.read_csv('ap_data/acct_01.csv')\n"
   ]
  },
  {
   "cell_type": "code",
   "execution_count": null,
   "metadata": {},
   "outputs": [],
   "source": [
    "data_ap.head(3)"
   ]
  },
  {
   "cell_type": "code",
   "execution_count": null,
   "metadata": {
    "scrolled": true
   },
   "outputs": [],
   "source": [
    "\n",
    "data_df = pd.DataFrame(data_ap)\n",
    "data_df.reset_index(drop=True)\n",
    "\n",
    "data_df.columns = [\"sequence_number\",\"acctsessionid\",\"acctuniqueid\",\"username\",\n",
    "          \"username_hash\",\"unnamed\",\"unnamed1\",\n",
    "          \"ap_ip\",\"ap_port\",\"ap_port_type\",\"사용시작시각\",\n",
    "          \"사용종료시각\",\"사용시간\",\"acctsauthentic\",\n",
    "          \"connectioninfo_start\",\"connectioninfo_stop\",\"입력사용데이터\",\n",
    "          \"출력 사용데이터\",\"ap_mac\",\"단말기_mac \",\"acctterminatecause\",\n",
    "          \"service_type\",\"단말기_ip\",\"acctstartdelay\",\"acctstopdelay\",\n",
    "          \"xascendsessionsvrkey\"]\n",
    "\n",
    "# data_df = data_df.set_index(\"sequence_number\")\n",
    "\n",
    "data_df.head(3)\n"
   ]
  },
  {
   "cell_type": "code",
   "execution_count": null,
   "metadata": {},
   "outputs": [],
   "source": [
    "data_df = data_df.iloc[:,[3,4,7,12,17,19]]\n",
    "data_df.head(50)"
   ]
  },
  {
   "cell_type": "code",
   "execution_count": null,
   "metadata": {},
   "outputs": [],
   "source": [
    "data_df.shape\n"
   ]
  },
  {
   "cell_type": "code",
   "execution_count": null,
   "metadata": {},
   "outputs": [],
   "source": [
    "data_df[data_df['ap_ip'] == '168.131.181.124']"
   ]
  },
  {
   "cell_type": "code",
   "execution_count": null,
   "metadata": {},
   "outputs": [],
   "source": [
    "data_df['사용시작시각'].isnull().sum()"
   ]
  },
  {
   "cell_type": "code",
   "execution_count": null,
   "metadata": {},
   "outputs": [],
   "source": [
    "data_df['사용시간'].isnull().sum()"
   ]
  },
  {
   "cell_type": "code",
   "execution_count": null,
   "metadata": {},
   "outputs": [],
   "source": [
    "# #radius_account\n",
    "\n",
    "# columns = ['고유키','acctsessionid','acctuniqueid','사용자아이디','groupname','ap_ip','ap_port','ap_portt','사용시작시각',\n",
    "#            '사용종료시각','사용시간(초)','acctauthentic','connectinfo_start','connectinfo_stop','입력 사용데이터','출력 사용데이터',\n",
    "#            'ap_mac','단말기_mac','사용종료사유','servicetype','framedprotocol','단말기_ip','acctstartdelay','acctstopdelay','xascendsessionsvrkey']\n",
    "\n",
    "# radius_account = pd.read_excel(r'C:\\Users\\user\\radius_account\\jnu_radius_account_03-06.xlsx', names = columns)\n",
    "# radius_account = radius_account[['고유키','사용자아이디','ap_ip','단말기_mac','사용시간(초)','사용시작시각']]\n",
    "\n",
    "# # 기초특성화과학관 더 간단한 방법 생각\n",
    "\n",
    "# radius_account = radius_account.loc[(radius_account['ap_ip']=='168.131.122.113')|(radius_account['ap_ip']=='168.131.122.114')|\n",
    "# (radius_account['ap_ip']=='168.131.122.115')|(radius_account['ap_ip']=='168.131.122.116')|\n",
    "# (radius_account['ap_ip']=='168.131.122.117')|(radius_account['ap_ip']=='168.131.122.118')|\n",
    "# (radius_account['ap_ip']=='168.131.122.119')|(radius_account['ap_ip']=='168.131.122.120')|\n",
    "# (radius_account['ap_ip']=='168.131.122.121')|(radius_account['ap_ip']=='168.131.122.122')|\n",
    "# (radius_account['ap_ip']=='168.131.122.123')|(radius_account['ap_ip']=='168.131.122.124')|\n",
    "# (radius_account['ap_ip']=='168.131.122.125')|(radius_account['ap_ip']=='168.131.122.126')|\n",
    "# (radius_account['ap_ip']=='168.131.122.127')|(radius_account['ap_ip']=='168.131.122.128')|\n",
    "# (radius_account['ap_ip']=='168.131.122.129')|(radius_account['ap_ip']=='168.131.122.130'),:]\n",
    "\n",
    "\n",
    "# radius_account.set_index(radius_account['사용시작시각'], inplace=True)\n",
    "\n",
    "# radius_account_df = radius_account.resample('5T', how={'all_num':np.sum}).fillna(0)\n",
    "\n",
    "# radius_account.head(-1)\n",
    "\n",
    "\n",
    "# radius_1층 = radius_account.loc[(radius_account['ap_ip']=='168.131.122.113')|(radius_account['ap_ip']=='168.131.122.114'),:]\n",
    "# radius_2층 = radius_account.loc[(radius_account['ap_ip']=='168.131.122.115')|(radius_account['ap_ip']=='168.131.122.116'),:]\n",
    "# radius_3층 = radius_account.loc[(radius_account['ap_ip']=='168.131.122.117')|(radius_account['ap_ip']=='168.131.122.118'),:]\n",
    "# radius_4층 = radius_account.loc[(radius_account['ap_ip']=='168.131.122.119')|(radius_account['ap_ip']=='168.131.122.120'),:]\n",
    "# radius_5층 = radius_account.loc[(radius_account['ap_ip']=='168.131.122.121')|(radius_account['ap_ip']=='168.131.122.122'),:]\n",
    "# radius_6층 = radius_account.loc[(radius_account['ap_ip']=='168.131.122.123')|(radius_account['ap_ip']=='168.131.122.124'),:]\n",
    "# radius_7층 = radius_account.loc[(radius_account['ap_ip']=='168.131.122.125')|(radius_account['ap_ip']=='168.131.122.126'),:]\n",
    "# radius_8층 = radius_account.loc[(radius_account['ap_ip']=='168.131.122.127')|(radius_account['ap_ip']=='168.131.122.128'),:]\n",
    "# radius_9층 = radius_account.loc[(radius_account['ap_ip']=='168.131.122.129')|(radius_account['ap_ip']=='168.131.122.130'),:]\n",
    "\n",
    "# radius_1층['all_num'] = 1\n",
    "# radius_2층['all_num'] = 1\n",
    "# radius_3층['all_num'] = 1\n",
    "# radius_4층['all_num'] = 1\n",
    "# radius_5층['all_num'] = 1\n",
    "# radius_6층['all_num'] = 1\n",
    "# radius_7층['all_num'] = 1\n",
    "# radius_8층['all_num'] = 1\n",
    "# radius_9층['all_num'] = 1\n",
    "\n",
    "\n",
    "# radius_1층.set_index(radius_1층['사용시작시각'], inplace=True)\n",
    "# radius_1층_df = radius_1층.resample('30T', how={'all_num':np.sum}).fillna(0)\n",
    "# radius_1층_df.head(-1)\n",
    "\n",
    "\n",
    "# radius_2층.set_index(radius_account['사용시작시각'], inplace=True)\n",
    "# radius_2층_df = radius_account.resample('30T', how={'all_num':np.sum}).fillna(0)\n",
    "# radius_2층_df.head(-1)\n",
    "\n",
    "\n",
    "# radius_3층.set_index(radius_account['사용시작시각'], inplace=True)\n",
    "# radius_3층_df = radius_account.resample('30T', how={'all_num':np.sum}).fillna(0)\n",
    "# radius_3층_df.head(-1)\n",
    "\n",
    "\n",
    "# radius_4층.set_index(radius_account['사용시작시각'], inplace=True)\n",
    "# radius_4층_df = radius_account.resample('30T', how={'all_num':np.sum}).fillna(0)\n",
    "# radius_4층_df.head(-1)\n",
    "\n",
    "\n",
    "# radius_5층.set_index(radius_account['사용시작시각'], inplace=True)\n",
    "# radius_5층_df = radius_account.resample('30T', how={'all_num':np.sum}).fillna(0)\n",
    "# radius_5층_df.head(-1)\n",
    "\n",
    "\n",
    "# radius_6층.set_index(radius_account['사용시작시각'], inplace=True)\n",
    "# radius_6층_df = radius_account.resample('30T', how={'all_num':np.sum}).fillna(0)\n",
    "# radius_6층_df.head(-1)\n",
    "\n",
    "\n",
    "# 자연대\n",
    "\n",
    "# radius_account = radius_account.loc[(radius_account['ap_ip']=='14.48.182.42')|(radius_account['ap_ip']=='14.48.182.43')|\n",
    "# (radius_account['ap_ip']=='14.48.182.44')|(radius_account['ap_ip']=='14.48.182.52')|\n",
    "# (radius_account['ap_ip']=='14.48.182.45')|(radius_account['ap_ip']=='14.48.182.53')|\n",
    "# (radius_account['ap_ip']=='14.48.182.46')|(radius_account['ap_ip']=='14.48.182.54')|\n",
    "# (radius_account['ap_ip']=='14.48.182.47')|(radius_account['ap_ip']=='14.48.182.55')|\n",
    "# (radius_account['ap_ip']=='14.48.182.48')|(radius_account['ap_ip']=='14.48.182.56')|\n",
    "# (radius_account['ap_ip']=='14.48.182.49')|(radius_account['ap_ip']=='14.48.182.57')|\n",
    "# (radius_account['ap_ip']=='14.48.182.50')|(radius_account['ap_ip']=='14.48.182.51'),:]\n",
    "\n",
    "\n",
    "# radius_account['all_num'] = 1\n",
    "\n",
    "# radius_account.set_index(radius_account['사용시작시각'], inplace=True)\n",
    "\n",
    "# radius_account_df = radius_account.resample('30T', how={'all_num':np.sum}).fillna(0)\n",
    "\n",
    "# radius_account_df.head(-1)\n",
    "# 자연대 행 수 : 5802"
   ]
  },
  {
   "cell_type": "code",
   "execution_count": null,
   "metadata": {},
   "outputs": [],
   "source": []
  },
  {
   "cell_type": "code",
   "execution_count": null,
   "metadata": {},
   "outputs": [],
   "source": []
  },
  {
   "cell_type": "code",
   "execution_count": 22,
   "metadata": {},
   "outputs": [],
   "source": [
    "\n",
    "# import os\n",
    "\n",
    "# #나눠질 파일의 라인 수\n",
    "# nDivCnt = 1000000\n",
    "\n",
    "# #파일 경로\n",
    "# filepath = 'C:\\\\Users\\\\user\\\\넷첼린지\\\\ap_data\\\\'\n",
    "# #변경할 파일\n",
    "# fileName = 'acct_01'\n",
    "# #변경할 파일 확장자\n",
    "# fileExe = '.csv'\n",
    "\n",
    "# #나눈 파일을 만들 폴더\n",
    "# fileFolder = \"DivFile/\"\n",
    "\n",
    "# #디렉토리가 없으면 생성\n",
    "# dirname = filepath + fileFolder\n",
    "# if not os.path.isdir(dirname):\n",
    "#     os.mkdir(dirname)\n",
    "    \n",
    "# nLineCnt = 0\n",
    "# nFileidx = 0\n",
    "\n",
    "# f = open(\"%s\" % (filepath + fileName + fileExe), 'r', encoding = 'utf8')\n",
    "# fDivName = open(\"%s%06d%s\" % (filepath + fileFolder +fileName, nFileidx, fileExe), 'w')\n",
    "# while True:\n",
    "#     line = f.read()\n",
    "#     if not line:break\n",
    "        \n",
    "#     if nLineCnt == nDivCnt:\n",
    "#         fDivName.close()\n",
    "#         nFileidx += 1\n",
    "#         nLineCnt = 0\n",
    "#         strPat = \"%s%06%s\" % (filepath + fileFolder + fileName, nFileidx, fileExe)\n",
    "#         print(\"생성 완료 %s\" % strPat)\n",
    "        \n",
    "#     nLineCnt += 1\n",
    "#     fDivName.write(line)\n",
    "        \n",
    "# fDivName.close()\n",
    "# f.close()\n",
    "    \n",
    "# data_ap1 = data_ap.loc[:100,:]\n",
    "\n",
    "# data_ap1.to_excel('acct_01_100.xlsx',sheet_name='sheet1')"
   ]
  },
  {
   "cell_type": "code",
   "execution_count": null,
   "metadata": {},
   "outputs": [],
   "source": []
  }
 ],
 "metadata": {
  "kernelspec": {
   "display_name": "tensorflow",
   "language": "python",
   "name": "tensorflow"
  },
  "language_info": {
   "codemirror_mode": {
    "name": "ipython",
    "version": 3
   },
   "file_extension": ".py",
   "mimetype": "text/x-python",
   "name": "python",
   "nbconvert_exporter": "python",
   "pygments_lexer": "ipython3",
   "version": "3.6.7"
  }
 },
 "nbformat": 4,
 "nbformat_minor": 2
}
