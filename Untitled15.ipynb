{
 "cells": [
  {
   "cell_type": "code",
   "execution_count": null,
   "metadata": {},
   "outputs": [],
   "source": [
    "import pandas as pd\n",
    "import numpy as np"
   ]
  },
  {
   "cell_type": "code",
   "execution_count": null,
   "metadata": {
    "scrolled": true
   },
   "outputs": [],
   "source": [
    "ap_df = pd.read_excel('ap.xlsx')\n",
    "ap_df = ap_df.loc[(ap_df['AP가 설치된 건물-층']==\"명학회관-4층\"),:]\n",
    "#ap_df.head(50)\n"
   ]
  },
  {
   "cell_type": "code",
   "execution_count": null,
   "metadata": {},
   "outputs": [],
   "source": [
    "s1 = pd.Series(ap_df['USAGE_TIME(second)'])\n",
    "ap_df.set_index(ap_df['START_USING_TIME'], inplace=True)\n",
    "ap_df['all_num'] = 1\n",
    "\n",
    "# i = 0\n",
    "# data = []\n",
    "# while i < len(s1):\n",
    "#     data.append(0)\n",
    "# print(data)\n",
    "\n",
    "#ap_df.head(50)\n",
    "#print(len(ap_df))"
   ]
  },
  {
   "cell_type": "code",
   "execution_count": null,
   "metadata": {},
   "outputs": [],
   "source": [
    "# class sol:\n",
    "#     def sum():\n",
    "#         data = []\n",
    "#         total_num = []\n",
    "#         for i in len(s1):\n",
    "#             data.append(0), total_num.append(0)\n",
    "#         for i in len(ap_df):\n",
    "#             rotate = s1[i]/60\n",
    "#             for j in rotate:\n",
    "#                 total_num[j] = total_num[j] + 1\n",
    "#         return print(total_num)\n",
    "    "
   ]
  },
  {
   "cell_type": "code",
   "execution_count": null,
   "metadata": {},
   "outputs": [],
   "source": [
    "# sss = sol.sum\n",
    "# print(sss)\n",
    "\n",
    "#ap_df = ap_df.resample('5T', how= ).fillna(0)\n",
    "#ap_df.head(10)"
   ]
  },
  {
   "cell_type": "code",
   "execution_count": null,
   "metadata": {},
   "outputs": [],
   "source": []
  },
  {
   "cell_type": "code",
   "execution_count": null,
   "metadata": {},
   "outputs": [],
   "source": []
  },
  {
   "cell_type": "code",
   "execution_count": null,
   "metadata": {},
   "outputs": [],
   "source": []
  }
 ],
 "metadata": {
  "kernelspec": {
   "display_name": "Python 3",
   "language": "python",
   "name": "python3"
  },
  "language_info": {
   "codemirror_mode": {
    "name": "ipython",
    "version": 3
   },
   "file_extension": ".py",
   "mimetype": "text/x-python",
   "name": "python",
   "nbconvert_exporter": "python",
   "pygments_lexer": "ipython3",
   "version": "3.6.8"
  }
 },
 "nbformat": 4,
 "nbformat_minor": 2
}
